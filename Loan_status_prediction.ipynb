{
  "cells": [
    {
      "cell_type": "markdown",
      "source": [
        "# MACHINE LEARNING ASSIGMENT 1\n",
        "### ***Predictive model for determining the status of loan repayment***\n",
        "\n",
        "\n"
      ],
      "metadata": {
        "id": "RB_DW5IoC-wE"
      },
      "id": "RB_DW5IoC-wE"
    },
    {
      "cell_type": "markdown",
      "source": [
        "## STUDENT DETAILS\n",
        "\n",
        "***Group iD:***\n",
        "23\n",
        "\n",
        "***Group Name:***\n",
        "Linear_Legends\n",
        "\n",
        "***Student roll number & name:***\n",
        "\n",
        "A055_Gwyneth_Pereira\n",
        "\n",
        "A057_Tanishtha_Poddar\n",
        "\n",
        "A058_Ritika_Pradhan\n"
      ],
      "metadata": {
        "id": "gKkb4q6ZD0Cp"
      },
      "id": "gKkb4q6ZD0Cp"
    },
    {
      "cell_type": "markdown",
      "source": [
        "## ***Information on the Dataset***\n",
        "\n",
        "The dataset used in this assignment can be downloaded and previewed\n",
        "\n",
        "\n",
        "*   [status of loan repayment](https://docs.google.com/spreadsheets/d/10Mr596K5zxiwOTje1iGvdAF3dnPzy3aO/edit?usp=sharing&ouid=108081835396928440068&rtpof=true&sd=true)\n",
        "\n",
        "\n",
        "\n",
        "### *Attribute Information*\n",
        "\n",
        "*target variable:* loan_status (Categorical)\n",
        "\n",
        "#### **Loan related attributes**\n",
        "\n",
        "*loan_amt (float)* : Loan amount requested\n",
        "\n",
        "*term     (string)* : Loan term ( *for example:* \"36 months\", \"60 months\")\n",
        "\n",
        "*int_rate (float)* : Loan interest rate (%)\n",
        "\n",
        "*installment (float)* : Monthly loan payment amount\n",
        "\n",
        "*grade  (categorical)* : Loan grade assigned by lender\n",
        "\n",
        "*sub_grade (categorical)* : Sub-grade\n",
        "\n",
        "*initial_list_status (categorical)* : intital loan listing status\n",
        "\n",
        "#### **Applicant-related attributes**\n",
        "\n",
        "*emp_title (categorical)* : Job title of the borrower\n",
        "\n",
        "*emp_length (categorical)* : Length of employment\n",
        "\n",
        "*homeownership (categorical)* : Homeownership type (*for example*: \"renter\",\n",
        " \"mortgage\")\n",
        "\n",
        "*annual_inc (float)*: Annual income of the borrower\n",
        "\n",
        "\n",
        "#### **Credit History-related attributes**\n",
        "\n",
        "*open_acc (integer)*: Number of open credit lines\n",
        "\n",
        "*pub_rec (integer)* : Number of derogatory public records\n",
        "\n",
        "*revol_bal (float)* : Revolving credit balance\n",
        "\n",
        "*revol_util  (float)* : Credit utilization ratio(%)\n",
        "\n",
        "*total_acc (integer)*: Total number of credit accounts\n",
        "\n",
        "\n",
        "\n",
        "\n"
      ],
      "metadata": {
        "id": "cdwIgLdkEl0V"
      },
      "id": "cdwIgLdkEl0V"
    },
    {
      "cell_type": "markdown",
      "source": [
        "##***Case Study***\n",
        "\n",
        "Financial institutions, such as banks and lending companies, face significant risks in their lending operations due to potential loan defaults.To avoid this, traditionally, lenders would assess creditworthiness using manual methods, such as credit scores and financial history reviews. However, these methods may not capture all risk factors effectively, in the sense that over reliance on credit scores may deem borrowers with no credit history as *unreliable* .\n",
        "\n",
        "The dataset used comprises 255,347 entries and 18 columns, covering various aspects of borrower demographics, financial details, and loan-specific attributes\n",
        "\n",
        "\n",
        "### *Machine learning problem and objectives*\n",
        "The aim of this assignment is to develop and train a machine learning model to determine wheteher a borrower will default on their loan based on historical data and further more to help banks decide whether or not to adjust their loan terms based on the results concluded and essentially reduce the number of high risk loans and losses faced by the bank.\n",
        "\n",
        "Thus the problem we face in this assingment is a ***binary classification problem***.\n",
        "\n",
        "### Project structure\n",
        "\n",
        "**1)** Exploratory data analysis\n",
        "\n",
        "**2)** Data wrangling\n",
        "\n",
        "**3)** Machine learning techniques\n",
        "\n",
        "**4)** Conclusion\n",
        "\n",
        "\n",
        "\n",
        "\n",
        "\n",
        "\n"
      ],
      "metadata": {
        "id": "RwjOaYc-I5Fk"
      },
      "id": "RwjOaYc-I5Fk"
    },
    {
      "cell_type": "code",
      "execution_count": null,
      "id": "d1e872f9",
      "metadata": {
        "id": "d1e872f9"
      },
      "outputs": [],
      "source": [
        "import pandas as pd"
      ]
    },
    {
      "cell_type": "code",
      "execution_count": null,
      "id": "e398d699",
      "metadata": {
        "id": "e398d699"
      },
      "outputs": [],
      "source": [
        "data=pd.read_csv(\"loan_data_2.csv\",encoding=\"ISO-8859-1\")"
      ]
    },
    {
      "cell_type": "code",
      "execution_count": null,
      "id": "2d88899d",
      "metadata": {
        "id": "2d88899d",
        "outputId": "53b91168-d9f9-4b17-b6db-6829a74832f6"
      },
      "outputs": [
        {
          "data": {
            "text/html": [
              "<div>\n",
              "<style scoped>\n",
              "    .dataframe tbody tr th:only-of-type {\n",
              "        vertical-align: middle;\n",
              "    }\n",
              "\n",
              "    .dataframe tbody tr th {\n",
              "        vertical-align: top;\n",
              "    }\n",
              "\n",
              "    .dataframe thead th {\n",
              "        text-align: right;\n",
              "    }\n",
              "</style>\n",
              "<table border=\"1\" class=\"dataframe\">\n",
              "  <thead>\n",
              "    <tr style=\"text-align: right;\">\n",
              "      <th></th>\n",
              "      <th>loan_amnt</th>\n",
              "      <th>term</th>\n",
              "      <th>int_rate</th>\n",
              "      <th>installment</th>\n",
              "      <th>grade</th>\n",
              "      <th>sub_grade</th>\n",
              "      <th>emp_title</th>\n",
              "      <th>emp_length</th>\n",
              "      <th>home_ownership</th>\n",
              "      <th>annual_inc</th>\n",
              "      <th>...</th>\n",
              "      <th>open_acc</th>\n",
              "      <th>pub_rec</th>\n",
              "      <th>revol_bal</th>\n",
              "      <th>revol_util</th>\n",
              "      <th>total_acc</th>\n",
              "      <th>initial_list_status</th>\n",
              "      <th>application_type</th>\n",
              "      <th>mort_acc</th>\n",
              "      <th>pub_rec_bankruptcies</th>\n",
              "      <th>address</th>\n",
              "    </tr>\n",
              "  </thead>\n",
              "  <tbody>\n",
              "    <tr>\n",
              "      <th>0</th>\n",
              "      <td>10000.0</td>\n",
              "      <td>36 months</td>\n",
              "      <td>11.44</td>\n",
              "      <td>329.48</td>\n",
              "      <td>B</td>\n",
              "      <td>B4</td>\n",
              "      <td>Marketing</td>\n",
              "      <td>10+ years</td>\n",
              "      <td>RENT</td>\n",
              "      <td>117000.0</td>\n",
              "      <td>...</td>\n",
              "      <td>16.0</td>\n",
              "      <td>0.0</td>\n",
              "      <td>36369.0</td>\n",
              "      <td>41.8</td>\n",
              "      <td>25.0</td>\n",
              "      <td>w</td>\n",
              "      <td>INDIVIDUAL</td>\n",
              "      <td>0.0</td>\n",
              "      <td>0.0</td>\n",
              "      <td>0174 Michelle Gateway\\nMendozaberg, OK 22690</td>\n",
              "    </tr>\n",
              "    <tr>\n",
              "      <th>1</th>\n",
              "      <td>8000.0</td>\n",
              "      <td>36 months</td>\n",
              "      <td>11.99</td>\n",
              "      <td>265.68</td>\n",
              "      <td>B</td>\n",
              "      <td>B5</td>\n",
              "      <td>Credit analyst</td>\n",
              "      <td>4 years</td>\n",
              "      <td>MORTGAGE</td>\n",
              "      <td>65000.0</td>\n",
              "      <td>...</td>\n",
              "      <td>17.0</td>\n",
              "      <td>0.0</td>\n",
              "      <td>20131.0</td>\n",
              "      <td>53.3</td>\n",
              "      <td>27.0</td>\n",
              "      <td>f</td>\n",
              "      <td>INDIVIDUAL</td>\n",
              "      <td>3.0</td>\n",
              "      <td>0.0</td>\n",
              "      <td>1076 Carney Fort Apt. 347\\nLoganmouth, SD 05113</td>\n",
              "    </tr>\n",
              "    <tr>\n",
              "      <th>2</th>\n",
              "      <td>15600.0</td>\n",
              "      <td>36 months</td>\n",
              "      <td>10.49</td>\n",
              "      <td>506.97</td>\n",
              "      <td>B</td>\n",
              "      <td>B3</td>\n",
              "      <td>Statistician</td>\n",
              "      <td>&lt; 1 year</td>\n",
              "      <td>RENT</td>\n",
              "      <td>43057.0</td>\n",
              "      <td>...</td>\n",
              "      <td>13.0</td>\n",
              "      <td>0.0</td>\n",
              "      <td>11987.0</td>\n",
              "      <td>92.2</td>\n",
              "      <td>26.0</td>\n",
              "      <td>f</td>\n",
              "      <td>INDIVIDUAL</td>\n",
              "      <td>0.0</td>\n",
              "      <td>0.0</td>\n",
              "      <td>87025 Mark Dale Apt. 269\\nNew Sabrina, WV 05113</td>\n",
              "    </tr>\n",
              "    <tr>\n",
              "      <th>3</th>\n",
              "      <td>7200.0</td>\n",
              "      <td>36 months</td>\n",
              "      <td>6.49</td>\n",
              "      <td>220.65</td>\n",
              "      <td>A</td>\n",
              "      <td>A2</td>\n",
              "      <td>Client Advocate</td>\n",
              "      <td>6 years</td>\n",
              "      <td>RENT</td>\n",
              "      <td>54000.0</td>\n",
              "      <td>...</td>\n",
              "      <td>6.0</td>\n",
              "      <td>0.0</td>\n",
              "      <td>5472.0</td>\n",
              "      <td>21.5</td>\n",
              "      <td>13.0</td>\n",
              "      <td>f</td>\n",
              "      <td>INDIVIDUAL</td>\n",
              "      <td>0.0</td>\n",
              "      <td>0.0</td>\n",
              "      <td>823 Reid Ford\\nDelacruzside, MA 00813</td>\n",
              "    </tr>\n",
              "    <tr>\n",
              "      <th>4</th>\n",
              "      <td>24375.0</td>\n",
              "      <td>60 months</td>\n",
              "      <td>17.27</td>\n",
              "      <td>609.33</td>\n",
              "      <td>C</td>\n",
              "      <td>C5</td>\n",
              "      <td>Destiny Management Inc.</td>\n",
              "      <td>9 years</td>\n",
              "      <td>MORTGAGE</td>\n",
              "      <td>55000.0</td>\n",
              "      <td>...</td>\n",
              "      <td>13.0</td>\n",
              "      <td>0.0</td>\n",
              "      <td>24584.0</td>\n",
              "      <td>69.8</td>\n",
              "      <td>43.0</td>\n",
              "      <td>f</td>\n",
              "      <td>INDIVIDUAL</td>\n",
              "      <td>1.0</td>\n",
              "      <td>0.0</td>\n",
              "      <td>679 Luna Roads\\nGreggshire, VA 11650</td>\n",
              "    </tr>\n",
              "  </tbody>\n",
              "</table>\n",
              "<p>5 rows × 27 columns</p>\n",
              "</div>"
            ],
            "text/plain": [
              "   loan_amnt        term  int_rate  installment grade sub_grade  \\\n",
              "0    10000.0   36 months     11.44       329.48     B        B4   \n",
              "1     8000.0   36 months     11.99       265.68     B        B5   \n",
              "2    15600.0   36 months     10.49       506.97     B        B3   \n",
              "3     7200.0   36 months      6.49       220.65     A        A2   \n",
              "4    24375.0   60 months     17.27       609.33     C        C5   \n",
              "\n",
              "                 emp_title emp_length home_ownership  annual_inc  ...  \\\n",
              "0                Marketing  10+ years           RENT    117000.0  ...   \n",
              "1          Credit analyst     4 years       MORTGAGE     65000.0  ...   \n",
              "2             Statistician   < 1 year           RENT     43057.0  ...   \n",
              "3          Client Advocate    6 years           RENT     54000.0  ...   \n",
              "4  Destiny Management Inc.    9 years       MORTGAGE     55000.0  ...   \n",
              "\n",
              "  open_acc pub_rec revol_bal revol_util total_acc  initial_list_status  \\\n",
              "0     16.0     0.0   36369.0       41.8      25.0                    w   \n",
              "1     17.0     0.0   20131.0       53.3      27.0                    f   \n",
              "2     13.0     0.0   11987.0       92.2      26.0                    f   \n",
              "3      6.0     0.0    5472.0       21.5      13.0                    f   \n",
              "4     13.0     0.0   24584.0       69.8      43.0                    f   \n",
              "\n",
              "  application_type  mort_acc  pub_rec_bankruptcies  \\\n",
              "0       INDIVIDUAL       0.0                   0.0   \n",
              "1       INDIVIDUAL       3.0                   0.0   \n",
              "2       INDIVIDUAL       0.0                   0.0   \n",
              "3       INDIVIDUAL       0.0                   0.0   \n",
              "4       INDIVIDUAL       1.0                   0.0   \n",
              "\n",
              "                                           address  \n",
              "0     0174 Michelle Gateway\\nMendozaberg, OK 22690  \n",
              "1  1076 Carney Fort Apt. 347\\nLoganmouth, SD 05113  \n",
              "2  87025 Mark Dale Apt. 269\\nNew Sabrina, WV 05113  \n",
              "3            823 Reid Ford\\nDelacruzside, MA 00813  \n",
              "4             679 Luna Roads\\nGreggshire, VA 11650  \n",
              "\n",
              "[5 rows x 27 columns]"
            ]
          },
          "execution_count": 6,
          "metadata": {},
          "output_type": "execute_result"
        }
      ],
      "source": [
        "data.head()"
      ]
    },
    {
      "cell_type": "markdown",
      "source": [
        "#### *Basic information of the dataset*"
      ],
      "metadata": {
        "id": "HxAXZpidjMk0"
      },
      "id": "HxAXZpidjMk0"
    },
    {
      "cell_type": "code",
      "execution_count": null,
      "id": "bc8e575d",
      "metadata": {
        "id": "bc8e575d",
        "outputId": "4e11d730-e70e-48eb-e847-1eb653ecd602"
      },
      "outputs": [
        {
          "data": {
            "text/plain": [
              "Index(['loan_amnt', 'term', 'int_rate', 'installment', 'grade', 'sub_grade',\n",
              "       'emp_title', 'emp_length', 'home_ownership', 'annual_inc',\n",
              "       'verification_status', 'issue_d', 'loan_status', 'purpose', 'title',\n",
              "       'dti', 'earliest_cr_line', 'open_acc', 'pub_rec', 'revol_bal',\n",
              "       'revol_util', 'total_acc', 'initial_list_status', 'application_type',\n",
              "       'mort_acc', 'pub_rec_bankruptcies', 'address'],\n",
              "      dtype='object')"
            ]
          },
          "execution_count": 8,
          "metadata": {},
          "output_type": "execute_result"
        }
      ],
      "source": [
        "data.columns"
      ]
    },
    {
      "cell_type": "code",
      "execution_count": null,
      "id": "f847a5f3",
      "metadata": {
        "id": "f847a5f3",
        "outputId": "f1f69d14-84f2-428d-8bad-9d7454e85135"
      },
      "outputs": [
        {
          "name": "stdout",
          "output_type": "stream",
          "text": [
            "<class 'pandas.core.frame.DataFrame'>\n",
            "RangeIndex: 396030 entries, 0 to 396029\n",
            "Data columns (total 27 columns):\n",
            " #   Column                Non-Null Count   Dtype  \n",
            "---  ------                --------------   -----  \n",
            " 0   loan_amnt             396030 non-null  float64\n",
            " 1   term                  396030 non-null  object \n",
            " 2   int_rate              396030 non-null  float64\n",
            " 3   installment           396030 non-null  float64\n",
            " 4   grade                 396030 non-null  object \n",
            " 5   sub_grade             396030 non-null  object \n",
            " 6   emp_title             373103 non-null  object \n",
            " 7   emp_length            377729 non-null  object \n",
            " 8   home_ownership        396030 non-null  object \n",
            " 9   annual_inc            396030 non-null  float64\n",
            " 10  verification_status   396030 non-null  object \n",
            " 11  issue_d               396030 non-null  object \n",
            " 12  loan_status           396030 non-null  object \n",
            " 13  purpose               396030 non-null  object \n",
            " 14  title                 394274 non-null  object \n",
            " 15  dti                   396030 non-null  float64\n",
            " 16  earliest_cr_line      396030 non-null  object \n",
            " 17  open_acc              396030 non-null  float64\n",
            " 18  pub_rec               396030 non-null  float64\n",
            " 19  revol_bal             396030 non-null  float64\n",
            " 20  revol_util            395754 non-null  float64\n",
            " 21  total_acc             396030 non-null  float64\n",
            " 22  initial_list_status   396030 non-null  object \n",
            " 23  application_type      396030 non-null  object \n",
            " 24  mort_acc              358235 non-null  float64\n",
            " 25  pub_rec_bankruptcies  395495 non-null  float64\n",
            " 26  address               396030 non-null  object \n",
            "dtypes: float64(12), object(15)\n",
            "memory usage: 81.6+ MB\n"
          ]
        }
      ],
      "source": [
        "data.info()"
      ]
    },
    {
      "cell_type": "code",
      "execution_count": null,
      "id": "e12c72f5",
      "metadata": {
        "id": "e12c72f5",
        "outputId": "cb2364f5-422d-48ab-8e25-3d100a802ae1"
      },
      "outputs": [
        {
          "data": {
            "text/plain": [
              "array(['Fully Paid', 'Charged Off'], dtype=object)"
            ]
          },
          "execution_count": 12,
          "metadata": {},
          "output_type": "execute_result"
        }
      ],
      "source": [
        "data[\"loan_status\"].unique()"
      ]
    },
    {
      "cell_type": "code",
      "execution_count": null,
      "id": "ea8a7af5",
      "metadata": {
        "id": "ea8a7af5"
      },
      "outputs": [],
      "source": [
        "import matplotlib.pyplot as plt\n",
        "import seaborn as sns\n",
        "import numpy as np"
      ]
    },
    {
      "cell_type": "code",
      "execution_count": null,
      "id": "56a846da",
      "metadata": {
        "id": "56a846da",
        "outputId": "23a3ec7b-fbbc-482a-e74b-8ab4d5c6ad5f"
      },
      "outputs": [
        {
          "data": {
            "text/plain": [
              "<Axes: xlabel='loan_status', ylabel='count'>"
            ]
          },
          "execution_count": 16,
          "metadata": {},
          "output_type": "execute_result"
        },
        {
          "data": {
            "image/png": "[encoded data removed]",
            "text/plain": [
              "<Figure size 640x480 with 1 Axes>"
            ]
          },
          "metadata": {},
          "output_type": "display_data"
        }
      ],
      "source": [
        "sns.countplot(x=\"loan_status\", data = data)"
      ]
    },
    {
      "cell_type": "code",
      "execution_count": null,
      "id": "8e333712",
      "metadata": {
        "id": "8e333712",
        "outputId": "5c9edca4-1ca0-49f0-9351-29a8c1d5d6ff"
      },
      "outputs": [
        {
          "name": "stderr",
          "output_type": "stream",
          "text": [
            "C:\\Users\\hp\\AppData\\Local\\Temp\\ipykernel_12588\\901757907.py:1: UserWarning: \n",
            "\n",
            "`distplot` is a deprecated function and will be removed in seaborn v0.14.0.\n",
            "\n",
            "Please adapt your code to use either `displot` (a figure-level function with\n",
            "similar flexibility) or `histplot` (an axes-level function for histograms).\n",
            "\n",
            "For a guide to updating your code to use the new functions, please see\n",
            "https://gist.github.com/mwaskom/de44147ed2974457ad6372750bbe5751\n",
            "\n",
            "  sns.distplot(data[\"loan_amnt\"] , bins =20)\n"
          ]
        },
        {
          "data": {
            "text/plain": [
              "<Axes: xlabel='loan_amnt', ylabel='Density'>"
            ]
          },
          "execution_count": 18,
          "metadata": {},
          "output_type": "execute_result"
        },
        {
          "data": {
            "image/png": "[encoded data removed]",
            "text/plain": [
              "<Figure size 640x480 with 1 Axes>"
            ]
          },
          "metadata": {},
          "output_type": "display_data"
        }
      ],
      "source": [
        "sns.distplot(data[\"loan_amnt\"] , bins =20)\n",
        "# put kde as false to remove the line above this and\n",
        "#bins = some number give number of bars to be allowed"
      ]
    },
    {
      "cell_type": "markdown",
      "source": [
        "# ***Exploratory Data Analysis***"
      ],
      "metadata": {
        "id": "G2AK3dvjj3hm"
      },
      "id": "G2AK3dvjj3hm"
    },
    {
      "cell_type": "code",
      "execution_count": null,
      "id": "ebca07f1",
      "metadata": {
        "id": "ebca07f1",
        "outputId": "47df5c1d-f1dd-4c13-e0eb-059543e8a6c8"
      },
      "outputs": [
        {
          "data": {
            "text/plain": [
              "<Axes: >"
            ]
          },
          "execution_count": 22,
          "metadata": {},
          "output_type": "execute_result"
        },
        {
          "data": {
            "image/png": "[encoded data removed]",
            "text/plain": [
              "<Figure size 1500x700 with 2 Axes>"
            ]
          },
          "metadata": {},
          "output_type": "display_data"
        }
      ],
      "source": [
        "corr = data.select_dtypes(include=[\"number\"]).corr()\n",
        "\n",
        "# corr=data.corr()\n",
        "plt.figure(figsize = (15,7))\n",
        "sns.heatmap(corr, annot= True , cmap=\"coolwarm\")"
      ]
    },
    {
      "cell_type": "markdown",
      "source": [
        "*Larger loans were more likely to default.*\n",
        "\n",
        "*Higher credit scores indicate lower risk.*\n",
        "\n",
        "To combat this from a business perspective, a stricter eligibility criteria for high loan amounts could be implemented or a tiered interest rate could also be implemented to balance risks.\n",
        "\n",
        "(Tiered interest rates can be simply understood as varying levels of interest rates for varying levels of borrowers. For example, low-risk borrowers could have an interest rate of 5% and consequently high risk borrowers could have an interest rate of 20% with mid risk borrowers facing interest rates between the range of the latter two borrowers)"
      ],
      "metadata": {
        "id": "Y45qlB92kBC1"
      },
      "id": "Y45qlB92kBC1"
    },
    {
      "cell_type": "code",
      "execution_count": null,
      "id": "7b2850b2",
      "metadata": {
        "id": "7b2850b2",
        "outputId": "2c534470-c226-41b2-d1a6-145f0f707c81"
      },
      "outputs": [
        {
          "data": {
            "text/plain": [
              "<Axes: xlabel='loan_amnt', ylabel='loan_status'>"
            ]
          },
          "execution_count": 24,
          "metadata": {},
          "output_type": "execute_result"
        },
        {
          "data": {
            "image/png": "[encoded data removed]",
            "text/plain": [
              "<Figure size 640x480 with 1 Axes>"
            ]
          },
          "metadata": {},
          "output_type": "display_data"
        }
      ],
      "source": [
        "sns.boxplot(y = data[\"loan_status\"], x = data[\"loan_amnt\"], hue = data[\"loan_status\"])"
      ]
    },
    {
      "cell_type": "code",
      "execution_count": null,
      "id": "9fd6bd42",
      "metadata": {
        "id": "9fd6bd42"
      },
      "outputs": [],
      "source": [
        "data1 = data[data[\"loan_amnt\"] <= 37000]"
      ]
    },
    {
      "cell_type": "markdown",
      "source": [
        "the value was chosen as 37000 as the observed outlier begins from 37000.\n"
      ],
      "metadata": {
        "id": "KjenGKWMp-3W"
      },
      "id": "KjenGKWMp-3W"
    },
    {
      "cell_type": "code",
      "execution_count": null,
      "id": "b487b202",
      "metadata": {
        "id": "b487b202",
        "outputId": "b2e19853-7f5d-4909-8b6a-7b4444df4e44"
      },
      "outputs": [
        {
          "data": {
            "text/plain": [
              "(395831, 27)"
            ]
          },
          "execution_count": 28,
          "metadata": {},
          "output_type": "execute_result"
        }
      ],
      "source": [
        "data1.shape"
      ]
    },
    {
      "cell_type": "code",
      "execution_count": null,
      "id": "2da86a52",
      "metadata": {
        "id": "2da86a52",
        "outputId": "a1cba82e-ab38-46d7-b8a7-716403c4b4be"
      },
      "outputs": [
        {
          "data": {
            "text/html": [
              "<div>\n",
              "<style scoped>\n",
              "    .dataframe tbody tr th:only-of-type {\n",
              "        vertical-align: middle;\n",
              "    }\n",
              "\n",
              "    .dataframe tbody tr th {\n",
              "        vertical-align: top;\n",
              "    }\n",
              "\n",
              "    .dataframe thead th {\n",
              "        text-align: right;\n",
              "    }\n",
              "</style>\n",
              "<table border=\"1\" class=\"dataframe\">\n",
              "  <thead>\n",
              "    <tr style=\"text-align: right;\">\n",
              "      <th></th>\n",
              "      <th>count</th>\n",
              "      <th>mean</th>\n",
              "      <th>std</th>\n",
              "      <th>min</th>\n",
              "      <th>25%</th>\n",
              "      <th>50%</th>\n",
              "      <th>75%</th>\n",
              "      <th>max</th>\n",
              "    </tr>\n",
              "    <tr>\n",
              "      <th>loan_status</th>\n",
              "      <th></th>\n",
              "      <th></th>\n",
              "      <th></th>\n",
              "      <th></th>\n",
              "      <th></th>\n",
              "      <th></th>\n",
              "      <th></th>\n",
              "      <th></th>\n",
              "    </tr>\n",
              "  </thead>\n",
              "  <tbody>\n",
              "    <tr>\n",
              "      <th>Charged Off</th>\n",
              "      <td>77673.0</td>\n",
              "      <td>452.703110</td>\n",
              "      <td>249.096609</td>\n",
              "      <td>21.62</td>\n",
              "      <td>274.86</td>\n",
              "      <td>399.06</td>\n",
              "      <td>585.67</td>\n",
              "      <td>1527.00</td>\n",
              "    </tr>\n",
              "    <tr>\n",
              "      <th>Fully Paid</th>\n",
              "      <td>318357.0</td>\n",
              "      <td>426.761866</td>\n",
              "      <td>250.861622</td>\n",
              "      <td>16.08</td>\n",
              "      <td>244.46</td>\n",
              "      <td>369.51</td>\n",
              "      <td>562.89</td>\n",
              "      <td>1533.81</td>\n",
              "    </tr>\n",
              "  </tbody>\n",
              "</table>\n",
              "</div>"
            ],
            "text/plain": [
              "                count        mean         std    min     25%     50%     75%  \\\n",
              "loan_status                                                                    \n",
              "Charged Off   77673.0  452.703110  249.096609  21.62  274.86  399.06  585.67   \n",
              "Fully Paid   318357.0  426.761866  250.861622  16.08  244.46  369.51  562.89   \n",
              "\n",
              "                 max  \n",
              "loan_status           \n",
              "Charged Off  1527.00  \n",
              "Fully Paid   1533.81  "
            ]
          },
          "execution_count": 30,
          "metadata": {},
          "output_type": "execute_result"
        }
      ],
      "source": [
        "data.groupby(\"loan_status\")[\"installment\"].describe()"
      ]
    },
    {
      "cell_type": "code",
      "execution_count": null,
      "id": "73562d62",
      "metadata": {
        "id": "73562d62",
        "outputId": "92d27b74-da0a-43ca-e6ac-544f6fbd9b29"
      },
      "outputs": [
        {
          "data": {
            "text/plain": [
              "<Axes: xlabel='grade', ylabel='count'>"
            ]
          },
          "execution_count": 32,
          "metadata": {},
          "output_type": "execute_result"
        },
        {
          "data": {
            "image/png": "[encoded data removed]",
            "text/plain": [
              "<Figure size 640x480 with 1 Axes>"
            ]
          },
          "metadata": {},
          "output_type": "display_data"
        }
      ],
      "source": [
        "sorted_grade = sorted(data[\"grade\"].unique())\n",
        "sns.countplot(x=\"grade\", data= data, hue=\"loan_status\", order= sorted_grade)"
      ]
    },
    {
      "cell_type": "code",
      "execution_count": null,
      "id": "6045855a",
      "metadata": {
        "id": "6045855a",
        "outputId": "7d32000a-3947-42a3-f8ab-d31f90a92fd1"
      },
      "outputs": [
        {
          "data": {
            "text/plain": [
              "grade\n",
              "B    116018\n",
              "C    105987\n",
              "A     64187\n",
              "D     63524\n",
              "E     31488\n",
              "F     11772\n",
              "G      3054\n",
              "Name: count, dtype: int64"
            ]
          },
          "execution_count": 34,
          "metadata": {},
          "output_type": "execute_result"
        }
      ],
      "source": [
        "data[\"grade\"].value_counts()"
      ]
    },
    {
      "cell_type": "code",
      "execution_count": null,
      "id": "222361b9",
      "metadata": {
        "id": "222361b9"
      },
      "outputs": [],
      "source": [
        "data['Loan_Repayed'] = data['loan_status'].map({\"Charged Off\": 0, \"Fully Paid\": 1})"
      ]
    },
    {
      "cell_type": "markdown",
      "source": [
        "\"Charged Off\" is mapped to 0 → Loan was not repaid (defaulted)\n",
        "\n",
        "\"Fully Paid\" is mapped to 1 → Loan was successfully repaid\n",
        "\n",
        "We do this in order to make easier the problem of dealing with multiple loan statuses and instead dealing with whether the loan will be repaid or not."
      ],
      "metadata": {
        "id": "b6tU7viCurHd"
      },
      "id": "b6tU7viCurHd"
    },
    {
      "cell_type": "code",
      "execution_count": null,
      "id": "e5932f86",
      "metadata": {
        "id": "e5932f86",
        "outputId": "98a12042-4815-4f9c-9f3b-86ea59aa19d2"
      },
      "outputs": [
        {
          "data": {
            "text/html": [
              "<div>\n",
              "<style scoped>\n",
              "    .dataframe tbody tr th:only-of-type {\n",
              "        vertical-align: middle;\n",
              "    }\n",
              "\n",
              "    .dataframe tbody tr th {\n",
              "        vertical-align: top;\n",
              "    }\n",
              "\n",
              "    .dataframe thead th {\n",
              "        text-align: right;\n",
              "    }\n",
              "</style>\n",
              "<table border=\"1\" class=\"dataframe\">\n",
              "  <thead>\n",
              "    <tr style=\"text-align: right;\">\n",
              "      <th></th>\n",
              "      <th>Loan_Repayed</th>\n",
              "      <th>loan_status</th>\n",
              "    </tr>\n",
              "  </thead>\n",
              "  <tbody>\n",
              "    <tr>\n",
              "      <th>0</th>\n",
              "      <td>1</td>\n",
              "      <td>Fully Paid</td>\n",
              "    </tr>\n",
              "    <tr>\n",
              "      <th>1</th>\n",
              "      <td>1</td>\n",
              "      <td>Fully Paid</td>\n",
              "    </tr>\n",
              "    <tr>\n",
              "      <th>2</th>\n",
              "      <td>1</td>\n",
              "      <td>Fully Paid</td>\n",
              "    </tr>\n",
              "    <tr>\n",
              "      <th>3</th>\n",
              "      <td>1</td>\n",
              "      <td>Fully Paid</td>\n",
              "    </tr>\n",
              "    <tr>\n",
              "      <th>4</th>\n",
              "      <td>0</td>\n",
              "      <td>Charged Off</td>\n",
              "    </tr>\n",
              "    <tr>\n",
              "      <th>...</th>\n",
              "      <td>...</td>\n",
              "      <td>...</td>\n",
              "    </tr>\n",
              "    <tr>\n",
              "      <th>396025</th>\n",
              "      <td>1</td>\n",
              "      <td>Fully Paid</td>\n",
              "    </tr>\n",
              "    <tr>\n",
              "      <th>396026</th>\n",
              "      <td>1</td>\n",
              "      <td>Fully Paid</td>\n",
              "    </tr>\n",
              "    <tr>\n",
              "      <th>396027</th>\n",
              "      <td>1</td>\n",
              "      <td>Fully Paid</td>\n",
              "    </tr>\n",
              "    <tr>\n",
              "      <th>396028</th>\n",
              "      <td>1</td>\n",
              "      <td>Fully Paid</td>\n",
              "    </tr>\n",
              "    <tr>\n",
              "      <th>396029</th>\n",
              "      <td>1</td>\n",
              "      <td>Fully Paid</td>\n",
              "    </tr>\n",
              "  </tbody>\n",
              "</table>\n",
              "<p>396030 rows × 2 columns</p>\n",
              "</div>"
            ],
            "text/plain": [
              "        Loan_Repayed  loan_status\n",
              "0                  1   Fully Paid\n",
              "1                  1   Fully Paid\n",
              "2                  1   Fully Paid\n",
              "3                  1   Fully Paid\n",
              "4                  0  Charged Off\n",
              "...              ...          ...\n",
              "396025             1   Fully Paid\n",
              "396026             1   Fully Paid\n",
              "396027             1   Fully Paid\n",
              "396028             1   Fully Paid\n",
              "396029             1   Fully Paid\n",
              "\n",
              "[396030 rows x 2 columns]"
            ]
          },
          "execution_count": 38,
          "metadata": {},
          "output_type": "execute_result"
        }
      ],
      "source": [
        "data[[\"Loan_Repayed\",\"loan_status\"]]"
      ]
    },
    {
      "cell_type": "code",
      "execution_count": null,
      "id": "611f07d2",
      "metadata": {
        "id": "611f07d2",
        "outputId": "2df5939e-133f-4d3c-b330-2642b117d41b"
      },
      "outputs": [
        {
          "data": {
            "text/plain": [
              "loan_amnt               0.000000\n",
              "term                    0.000000\n",
              "int_rate                0.000000\n",
              "installment             0.000000\n",
              "grade                   0.000000\n",
              "sub_grade               0.000000\n",
              "emp_title               5.789208\n",
              "emp_length              4.621115\n",
              "home_ownership          0.000000\n",
              "annual_inc              0.000000\n",
              "verification_status     0.000000\n",
              "issue_d                 0.000000\n",
              "loan_status             0.000000\n",
              "purpose                 0.000000\n",
              "title                   0.443401\n",
              "dti                     0.000000\n",
              "earliest_cr_line        0.000000\n",
              "open_acc                0.000000\n",
              "pub_rec                 0.000000\n",
              "revol_bal               0.000000\n",
              "revol_util              0.069692\n",
              "total_acc               0.000000\n",
              "initial_list_status     0.000000\n",
              "application_type        0.000000\n",
              "mort_acc                9.543469\n",
              "pub_rec_bankruptcies    0.135091\n",
              "address                 0.000000\n",
              "Loan_Repayed            0.000000\n",
              "dtype: float64"
            ]
          },
          "execution_count": 40,
          "metadata": {},
          "output_type": "execute_result"
        }
      ],
      "source": [
        "data.isnull().sum()/len(data)*100"
      ]
    },
    {
      "cell_type": "code",
      "execution_count": null,
      "id": "c5902f0c",
      "metadata": {
        "id": "c5902f0c",
        "outputId": "ed70677c-a075-4bc8-f4c2-6b6da141a9da"
      },
      "outputs": [
        {
          "data": {
            "text/plain": [
              "173105"
            ]
          },
          "execution_count": 42,
          "metadata": {},
          "output_type": "execute_result"
        }
      ],
      "source": [
        "data[\"emp_title\"].nunique()"
      ]
    },
    {
      "cell_type": "code",
      "execution_count": null,
      "id": "3294621d",
      "metadata": {
        "id": "3294621d"
      },
      "outputs": [],
      "source": [
        "data = data.drop(\"emp_title\", axis=1)"
      ]
    },
    {
      "cell_type": "markdown",
      "source": [
        "*emp_title (Job Title)* contains 173,105 unique job titles, indicating high variability. Since this feature has too many unique values, it may not be useful for predictive modeling.\n",
        "\n",
        "Hence the column is dropped due to the number of unique values which creates high cardinality making it difficult for the ML models to use effectively\n"
      ],
      "metadata": {
        "id": "Lwd_91zjrjvI"
      },
      "id": "Lwd_91zjrjvI"
    },
    {
      "cell_type": "code",
      "execution_count": null,
      "id": "a60cf6df",
      "metadata": {
        "id": "a60cf6df",
        "outputId": "bf03d5ed-bb69-492f-ef7a-f301ef1c3583"
      },
      "outputs": [
        {
          "name": "stdout",
          "output_type": "stream",
          "text": [
            "<class 'pandas.core.series.Series'>\n",
            "RangeIndex: 396030 entries, 0 to 396029\n",
            "Series name: emp_length\n",
            "Non-Null Count   Dtype \n",
            "--------------   ----- \n",
            "377729 non-null  object\n",
            "dtypes: object(1)\n",
            "memory usage: 3.0+ MB\n"
          ]
        }
      ],
      "source": [
        "data[\"emp_length\"].info()"
      ]
    },
    {
      "cell_type": "code",
      "execution_count": null,
      "id": "9fb2f77a",
      "metadata": {
        "id": "9fb2f77a",
        "outputId": "665ddcb1-31f2-464c-b25d-3fffa27bf12d"
      },
      "outputs": [
        {
          "data": {
            "text/plain": [
              "['1 year',\n",
              " '10+ years',\n",
              " '2 years',\n",
              " '3 years',\n",
              " '4 years',\n",
              " '5 years',\n",
              " '6 years',\n",
              " '7 years',\n",
              " '8 years',\n",
              " '9 years',\n",
              " '< 1 year']"
            ]
          },
          "execution_count": 48,
          "metadata": {},
          "output_type": "execute_result"
        }
      ],
      "source": [
        "sorted(data[\"emp_length\"].dropna().unique())"
      ]
    },
    {
      "cell_type": "code",
      "execution_count": null,
      "id": "3ad2f124",
      "metadata": {
        "id": "3ad2f124"
      },
      "outputs": [],
      "source": [
        "sorted_emp_length = ['< 1 year',\n",
        " '1 year',\n",
        " '2 years',\n",
        " '3 years',\n",
        " '4 years',\n",
        " '5 years',\n",
        " '6 years',\n",
        " '7 years',\n",
        " '8 years',\n",
        " '9 years',\n",
        " '10+ years']"
      ]
    },
    {
      "cell_type": "code",
      "execution_count": null,
      "id": "668de7c7",
      "metadata": {
        "id": "668de7c7",
        "outputId": "ff23ad6f-4abe-4a9d-a6e8-185ff6203c8a"
      },
      "outputs": [
        {
          "data": {
            "text/plain": [
              "<Axes: xlabel='emp_length', ylabel='count'>"
            ]
          },
          "execution_count": 52,
          "metadata": {},
          "output_type": "execute_result"
        },
        {
          "data": {
            "image/png": "[encoded data removed]",
            "text/plain": [
              "<Figure size 1600x700 with 1 Axes>"
            ]
          },
          "metadata": {},
          "output_type": "display_data"
        }
      ],
      "source": [
        "plt.figure(figsize=(16,7))\n",
        "sns.countplot(x= \"emp_length\", hue = \"loan_status\",data= data, order = sorted_emp_length)"
      ]
    },
    {
      "cell_type": "code",
      "execution_count": null,
      "id": "9dc29496",
      "metadata": {
        "id": "9dc29496"
      },
      "outputs": [],
      "source": [
        "emp_co = data[data[\"loan_status\"]==\"Charged Off\"].groupby(\"emp_length\").count()[\"loan_status\"]\n",
        "emp_fp = data[data[\"loan_status\"]==\"Fully Paid\"].groupby(\"emp_length\").count()[\"loan_status\"]\n",
        "employee_ratio = emp_co/(emp_co + emp_fp)"
      ]
    },
    {
      "cell_type": "code",
      "execution_count": null,
      "id": "8cdd50be",
      "metadata": {
        "id": "8cdd50be",
        "outputId": "a7c5d28d-f79c-422d-82ea-4da2fd7c7079"
      },
      "outputs": [
        {
          "data": {
            "text/plain": [
              "<Axes: xlabel='emp_length'>"
            ]
          },
          "execution_count": 56,
          "metadata": {},
          "output_type": "execute_result"
        },
        {
          "data": {
            "image/png": "[encoded data removed]",
            "text/plain": [
              "<Figure size 640x480 with 1 Axes>"
            ]
          },
          "metadata": {},
          "output_type": "display_data"
        }
      ],
      "source": [
        "employee_ratio.plot(kind=\"bar\")"
      ]
    },
    {
      "cell_type": "code",
      "execution_count": null,
      "id": "b7eb7bff",
      "metadata": {
        "id": "b7eb7bff"
      },
      "outputs": [],
      "source": [
        "data = data.drop(\"emp_length\", axis=1)"
      ]
    },
    {
      "cell_type": "code",
      "execution_count": null,
      "id": "34a3fc05",
      "metadata": {
        "id": "34a3fc05",
        "outputId": "09ff4fbe-7a75-4800-ccd5-f16904c1ffec"
      },
      "outputs": [
        {
          "data": {
            "text/plain": [
              "loan_amnt                   0\n",
              "term                        0\n",
              "int_rate                    0\n",
              "installment                 0\n",
              "grade                       0\n",
              "sub_grade                   0\n",
              "home_ownership              0\n",
              "annual_inc                  0\n",
              "verification_status         0\n",
              "issue_d                     0\n",
              "loan_status                 0\n",
              "purpose                     0\n",
              "title                    1756\n",
              "dti                         0\n",
              "earliest_cr_line            0\n",
              "open_acc                    0\n",
              "pub_rec                     0\n",
              "revol_bal                   0\n",
              "revol_util                276\n",
              "total_acc                   0\n",
              "initial_list_status         0\n",
              "application_type            0\n",
              "mort_acc                37795\n",
              "pub_rec_bankruptcies      535\n",
              "address                     0\n",
              "Loan_Repayed                0\n",
              "dtype: int64"
            ]
          },
          "execution_count": 60,
          "metadata": {},
          "output_type": "execute_result"
        }
      ],
      "source": [
        "data.isnull().sum()"
      ]
    },
    {
      "cell_type": "code",
      "execution_count": null,
      "id": "73875d28",
      "metadata": {
        "id": "73875d28",
        "outputId": "9a1d1049-4a8b-421e-c799-961e88ae50dc"
      },
      "outputs": [
        {
          "data": {
            "text/plain": [
              "48816"
            ]
          },
          "execution_count": 62,
          "metadata": {},
          "output_type": "execute_result"
        }
      ],
      "source": [
        "data[\"title\"].nunique()"
      ]
    },
    {
      "cell_type": "code",
      "execution_count": null,
      "id": "8b6d7195",
      "metadata": {
        "id": "8b6d7195"
      },
      "outputs": [],
      "source": [
        "data = data.drop(\"title\", axis=1)"
      ]
    },
    {
      "cell_type": "markdown",
      "source": [
        "The *title* column contains 48,816 unique values, indicating high cardinality, this suggests that borrowers entered custom loan titles, likely describing the purpose of the loan. For example, \"Debt Consolidation Loan\", \"Home Improvement Loan\". This is a problem because high uniqueness means that this column may not be useful for modeling, as each title is mostly unique.\n"
      ],
      "metadata": {
        "id": "iqK8ixv5sRJn"
      },
      "id": "iqK8ixv5sRJn"
    },
    {
      "cell_type": "code",
      "execution_count": null,
      "id": "0ccb8add",
      "metadata": {
        "id": "0ccb8add",
        "outputId": "9dfff290-5b42-4490-b0c4-4d4f12dc9de1"
      },
      "outputs": [
        {
          "data": {
            "text/plain": [
              "loan_amnt                   0\n",
              "term                        0\n",
              "int_rate                    0\n",
              "installment                 0\n",
              "grade                       0\n",
              "sub_grade                   0\n",
              "home_ownership              0\n",
              "annual_inc                  0\n",
              "verification_status         0\n",
              "issue_d                     0\n",
              "loan_status                 0\n",
              "purpose                     0\n",
              "dti                         0\n",
              "earliest_cr_line            0\n",
              "open_acc                    0\n",
              "pub_rec                     0\n",
              "revol_bal                   0\n",
              "revol_util                276\n",
              "total_acc                   0\n",
              "initial_list_status         0\n",
              "application_type            0\n",
              "mort_acc                37795\n",
              "pub_rec_bankruptcies      535\n",
              "address                     0\n",
              "Loan_Repayed                0\n",
              "dtype: int64"
            ]
          },
          "execution_count": 66,
          "metadata": {},
          "output_type": "execute_result"
        }
      ],
      "source": [
        "data.isnull().sum()"
      ]
    },
    {
      "cell_type": "code",
      "execution_count": null,
      "id": "bc7c9972",
      "metadata": {
        "id": "bc7c9972",
        "outputId": "b0bd8a57-d643-4104-bfe2-09ae1bb4ff38"
      },
      "outputs": [
        {
          "data": {
            "text/plain": [
              "dtype('float64')"
            ]
          },
          "execution_count": 68,
          "metadata": {},
          "output_type": "execute_result"
        }
      ],
      "source": [
        "data['revol_util'].dtypes"
      ]
    },
    {
      "cell_type": "code",
      "execution_count": null,
      "id": "ea8e704e",
      "metadata": {
        "id": "ea8e704e"
      },
      "outputs": [],
      "source": [
        "data[\"revol_util\"] = data[\"revol_util\"].fillna(value=mean)\n"
      ]
    },
    {
      "cell_type": "code",
      "execution_count": null,
      "id": "6f3aedc1",
      "metadata": {
        "id": "6f3aedc1"
      },
      "outputs": [],
      "source": [
        "data[\"pub_rec_bankruptcies\"] = data[\"pub_rec_bankruptcies\"].fillna(mean)\n"
      ]
    },
    {
      "cell_type": "code",
      "execution_count": null,
      "id": "47df0f0f",
      "metadata": {
        "id": "47df0f0f",
        "outputId": "beb5cdcd-13ee-472f-8823-2e2dda5f39fd"
      },
      "outputs": [
        {
          "data": {
            "text/plain": [
              "total_acc\n",
              "21.0     14280\n",
              "22.0     14260\n",
              "20.0     14228\n",
              "23.0     13923\n",
              "24.0     13878\n",
              "         ...  \n",
              "110.0        1\n",
              "129.0        1\n",
              "135.0        1\n",
              "104.0        1\n",
              "103.0        1\n",
              "Name: count, Length: 118, dtype: int64"
            ]
          },
          "execution_count": 90,
          "metadata": {},
          "output_type": "execute_result"
        }
      ],
      "source": [
        "data[\"total_acc\"].value_counts()"
      ]
    },
    {
      "cell_type": "code",
      "execution_count": null,
      "id": "a297fdcf",
      "metadata": {
        "id": "a297fdcf",
        "outputId": "e4abf494-d7c4-42ec-e138-ca9027b6fbd2"
      },
      "outputs": [
        {
          "name": "stdout",
          "output_type": "stream",
          "text": [
            "loan_amnt               float64\n",
            "term                     object\n",
            "int_rate                float64\n",
            "installment             float64\n",
            "grade                    object\n",
            "sub_grade                object\n",
            "home_ownership           object\n",
            "annual_inc              float64\n",
            "verification_status      object\n",
            "issue_d                  object\n",
            "loan_status              object\n",
            "purpose                  object\n",
            "dti                     float64\n",
            "earliest_cr_line         object\n",
            "open_acc                float64\n",
            "pub_rec                 float64\n",
            "revol_bal               float64\n",
            "revol_util              float64\n",
            "total_acc               float64\n",
            "initial_list_status      object\n",
            "application_type         object\n",
            "mort_acc                float64\n",
            "pub_rec_bankruptcies    float64\n",
            "address                  object\n",
            "Loan_Repayed              int64\n",
            "dtype: object\n",
            "[ 0.  3.  1.  4.  2.  6.  5. nan 10.  7. 12. 11.  8.  9. 13. 14. 22. 34.\n",
            " 15. 25. 19. 16. 17. 32. 18. 24. 21. 20. 31. 28. 30. 23. 26. 27.]\n",
            "total_acc\n",
            "2.0      0.000000\n",
            "3.0      0.052023\n",
            "4.0      0.066743\n",
            "5.0      0.103289\n",
            "6.0      0.151293\n",
            "           ...   \n",
            "124.0    1.000000\n",
            "129.0    1.000000\n",
            "135.0    3.000000\n",
            "150.0    2.000000\n",
            "151.0    0.000000\n",
            "Name: mort_acc, Length: 118, dtype: float64\n"
          ]
        }
      ],
      "source": [
        "#total_acc_avg = data.groupby(\"total_acc\").mean()[\"mort_acc\"]\n",
        "#total_acc_avg\n",
        "\n",
        "print(data.dtypes)\n",
        "data[\"mort_acc\"] = pd.to_numeric(data[\"mort_acc\"], errors='coerce')\n",
        "print(data[\"mort_acc\"].unique())\n",
        "total_acc_avg = data.groupby(\"total_acc\")[\"mort_acc\"].mean()\n",
        "print(total_acc_avg)\n"
      ]
    },
    {
      "cell_type": "code",
      "execution_count": null,
      "id": "ba9a2b8a",
      "metadata": {
        "id": "ba9a2b8a"
      },
      "outputs": [],
      "source": [
        "def fill_in_mort_acc(total_acc, mort_acc):\n",
        "    if np.isnan(mort_acc):\n",
        "        return total_acc_avg[total_acc]\n",
        "    else:\n",
        "        return(mort_acc)"
      ]
    },
    {
      "cell_type": "code",
      "execution_count": null,
      "id": "c80fefed",
      "metadata": {
        "id": "c80fefed"
      },
      "outputs": [],
      "source": [
        "data[\"mort_acc\"] = data.apply(lambda x: fill_in_mort_acc(x[\"total_acc\"], x[\"mort_acc\"]), axis =1)"
      ]
    },
    {
      "cell_type": "code",
      "execution_count": null,
      "id": "adc8d9c6",
      "metadata": {
        "id": "adc8d9c6",
        "outputId": "5b7c0dd1-2d15-4225-e3ba-87ae6e27ecba"
      },
      "outputs": [
        {
          "data": {
            "text/plain": [
              "Index(['term', 'grade', 'sub_grade', 'home_ownership', 'verification_status',\n",
              "       'issue_d', 'loan_status', 'purpose', 'earliest_cr_line',\n",
              "       'initial_list_status', 'application_type', 'address'],\n",
              "      dtype='object')"
            ]
          },
          "execution_count": 98,
          "metadata": {},
          "output_type": "execute_result"
        }
      ],
      "source": [
        "data.select_dtypes([\"object\"]).columns"
      ]
    },
    {
      "cell_type": "code",
      "execution_count": null,
      "id": "9b8ac0ca",
      "metadata": {
        "id": "9b8ac0ca",
        "outputId": "505a0fce-70a8-479e-8662-6cd66a869633"
      },
      "outputs": [
        {
          "data": {
            "text/plain": [
              "earliest_cr_line\n",
              "Oct-2000    3017\n",
              "Aug-2000    2935\n",
              "Oct-2001    2896\n",
              "Aug-2001    2884\n",
              "Nov-2000    2736\n",
              "            ... \n",
              "Jul-1958       1\n",
              "Nov-1957       1\n",
              "Jan-1953       1\n",
              "Jul-1955       1\n",
              "Aug-1959       1\n",
              "Name: count, Length: 684, dtype: int64"
            ]
          },
          "execution_count": 100,
          "metadata": {},
          "output_type": "execute_result"
        }
      ],
      "source": [
        "data[\"earliest_cr_line\"].value_counts()"
      ]
    },
    {
      "cell_type": "code",
      "execution_count": null,
      "id": "e7f5a813",
      "metadata": {
        "id": "e7f5a813"
      },
      "outputs": [],
      "source": [
        "data[\"term\"] = data[\"term\"].str[:3]\n",
        "data[\"term\"].value_counts()\n",
        "data =data.astype({\"term\":\"int\"})"
      ]
    },
    {
      "cell_type": "code",
      "execution_count": null,
      "id": "b6fd6cd6",
      "metadata": {
        "id": "b6fd6cd6",
        "outputId": "da01b35d-47c9-42be-d42d-66e9b78f3113"
      },
      "outputs": [
        {
          "data": {
            "text/plain": [
              "dtype('int32')"
            ]
          },
          "execution_count": 104,
          "metadata": {},
          "output_type": "execute_result"
        }
      ],
      "source": [
        "data[\"term\"].dtypes"
      ]
    },
    {
      "cell_type": "code",
      "execution_count": null,
      "id": "7cfd5ecd",
      "metadata": {
        "id": "7cfd5ecd",
        "outputId": "5b1b58a2-6101-4390-d0d8-b300994f9113"
      },
      "outputs": [
        {
          "data": {
            "text/plain": [
              "loan_amnt               float64\n",
              "term                      int32\n",
              "int_rate                float64\n",
              "installment             float64\n",
              "grade                    object\n",
              "sub_grade                object\n",
              "home_ownership           object\n",
              "annual_inc              float64\n",
              "verification_status      object\n",
              "issue_d                  object\n",
              "loan_status              object\n",
              "purpose                  object\n",
              "dti                     float64\n",
              "earliest_cr_line         object\n",
              "open_acc                float64\n",
              "pub_rec                 float64\n",
              "revol_bal               float64\n",
              "revol_util              float64\n",
              "total_acc               float64\n",
              "initial_list_status      object\n",
              "application_type         object\n",
              "mort_acc                float64\n",
              "pub_rec_bankruptcies    float64\n",
              "address                  object\n",
              "Loan_Repayed              int64\n",
              "dtype: object"
            ]
          },
          "execution_count": 106,
          "metadata": {},
          "output_type": "execute_result"
        }
      ],
      "source": [
        "data.dtypes"
      ]
    },
    {
      "cell_type": "code",
      "execution_count": null,
      "id": "08622637",
      "metadata": {
        "id": "08622637",
        "outputId": "88135116-d580-48f8-db2f-eb0fd715c067"
      },
      "outputs": [
        {
          "data": {
            "text/plain": [
              "home_ownership\n",
              "MORTGAGE    198348\n",
              "RENT        159790\n",
              "OWN          37746\n",
              "OTHER          112\n",
              "NONE            31\n",
              "ANY              3\n",
              "Name: count, dtype: int64"
            ]
          },
          "execution_count": 108,
          "metadata": {},
          "output_type": "execute_result"
        }
      ],
      "source": [
        "data[\"home_ownership\"].value_counts()"
      ]
    },
    {
      "cell_type": "code",
      "execution_count": null,
      "id": "3d19793b",
      "metadata": {
        "id": "3d19793b",
        "outputId": "100dd308-ca84-4278-cad7-06f3332773d1"
      },
      "outputs": [
        {
          "data": {
            "text/plain": [
              "grade\n",
              "B    116018\n",
              "C    105987\n",
              "A     64187\n",
              "D     63524\n",
              "E     31488\n",
              "F     11772\n",
              "G      3054\n",
              "Name: count, dtype: int64"
            ]
          },
          "execution_count": 110,
          "metadata": {},
          "output_type": "execute_result"
        }
      ],
      "source": [
        "data[\"grade\"].value_counts()"
      ]
    },
    {
      "cell_type": "code",
      "execution_count": null,
      "id": "23261709",
      "metadata": {
        "id": "23261709"
      },
      "outputs": [],
      "source": [
        "data = data.drop(\"grade\",axis =1)"
      ]
    },
    {
      "cell_type": "markdown",
      "source": [
        "Instead of using a high-level classification *(grade)*, we keep *sub_grade* since it provides more granular insights about loan quality.\n"
      ],
      "metadata": {
        "id": "QWMHY8f2vmRz"
      },
      "id": "QWMHY8f2vmRz"
    },
    {
      "cell_type": "code",
      "execution_count": null,
      "id": "18556b84",
      "metadata": {
        "id": "18556b84"
      },
      "outputs": [],
      "source": [
        "dummy = pd.get_dummies(data[\"sub_grade\"] , drop_first = True)"
      ]
    },
    {
      "cell_type": "code",
      "execution_count": null,
      "id": "d24b14ab",
      "metadata": {
        "id": "d24b14ab"
      },
      "outputs": [],
      "source": [
        "data = pd.concat([data.drop(\"sub_grade\", axis = 1), dummy], axis = 1)"
      ]
    },
    {
      "cell_type": "code",
      "execution_count": null,
      "id": "8a6c7615",
      "metadata": {
        "id": "8a6c7615"
      },
      "outputs": [],
      "source": [
        "dummy = pd.get_dummies(data[[\"verification_status\",\"application_type\",\"initial_list_status\",\"purpose\"]] , drop_first=True)"
      ]
    },
    {
      "cell_type": "code",
      "execution_count": null,
      "id": "a29f43ac",
      "metadata": {
        "id": "a29f43ac"
      },
      "outputs": [],
      "source": [
        "data = pd.concat([data.drop([\"verification_status\",\"application_type\",\"initial_list_status\",\"purpose\"], axis = 1), dummy], axis = 1)"
      ]
    },
    {
      "cell_type": "code",
      "execution_count": null,
      "id": "f5e03529",
      "metadata": {
        "id": "f5e03529",
        "outputId": "d0c618fc-9f5f-40ec-d61a-9ccd05754dd1"
      },
      "outputs": [
        {
          "data": {
            "text/html": [
              "<div>\n",
              "<style scoped>\n",
              "    .dataframe tbody tr th:only-of-type {\n",
              "        vertical-align: middle;\n",
              "    }\n",
              "\n",
              "    .dataframe tbody tr th {\n",
              "        vertical-align: top;\n",
              "    }\n",
              "\n",
              "    .dataframe thead th {\n",
              "        text-align: right;\n",
              "    }\n",
              "</style>\n",
              "<table border=\"1\" class=\"dataframe\">\n",
              "  <thead>\n",
              "    <tr style=\"text-align: right;\">\n",
              "      <th></th>\n",
              "      <th>loan_amnt</th>\n",
              "      <th>term</th>\n",
              "      <th>int_rate</th>\n",
              "      <th>installment</th>\n",
              "      <th>home_ownership</th>\n",
              "      <th>annual_inc</th>\n",
              "      <th>issue_d</th>\n",
              "      <th>dti</th>\n",
              "      <th>earliest_cr_line</th>\n",
              "      <th>open_acc</th>\n",
              "      <th>...</th>\n",
              "      <th>purpose_home_improvement</th>\n",
              "      <th>purpose_house</th>\n",
              "      <th>purpose_major_purchase</th>\n",
              "      <th>purpose_medical</th>\n",
              "      <th>purpose_moving</th>\n",
              "      <th>purpose_other</th>\n",
              "      <th>purpose_renewable_energy</th>\n",
              "      <th>purpose_small_business</th>\n",
              "      <th>purpose_vacation</th>\n",
              "      <th>purpose_wedding</th>\n",
              "    </tr>\n",
              "  </thead>\n",
              "  <tbody>\n",
              "    <tr>\n",
              "      <th>0</th>\n",
              "      <td>10000.0</td>\n",
              "      <td>36</td>\n",
              "      <td>11.44</td>\n",
              "      <td>329.48</td>\n",
              "      <td>RENT</td>\n",
              "      <td>117000.0</td>\n",
              "      <td>Jan-2015</td>\n",
              "      <td>26.24</td>\n",
              "      <td>Jun-1990</td>\n",
              "      <td>16.0</td>\n",
              "      <td>...</td>\n",
              "      <td>False</td>\n",
              "      <td>False</td>\n",
              "      <td>False</td>\n",
              "      <td>False</td>\n",
              "      <td>False</td>\n",
              "      <td>False</td>\n",
              "      <td>False</td>\n",
              "      <td>False</td>\n",
              "      <td>True</td>\n",
              "      <td>False</td>\n",
              "    </tr>\n",
              "    <tr>\n",
              "      <th>1</th>\n",
              "      <td>8000.0</td>\n",
              "      <td>36</td>\n",
              "      <td>11.99</td>\n",
              "      <td>265.68</td>\n",
              "      <td>MORTGAGE</td>\n",
              "      <td>65000.0</td>\n",
              "      <td>Jan-2015</td>\n",
              "      <td>22.05</td>\n",
              "      <td>Jul-2004</td>\n",
              "      <td>17.0</td>\n",
              "      <td>...</td>\n",
              "      <td>False</td>\n",
              "      <td>False</td>\n",
              "      <td>False</td>\n",
              "      <td>False</td>\n",
              "      <td>False</td>\n",
              "      <td>False</td>\n",
              "      <td>False</td>\n",
              "      <td>False</td>\n",
              "      <td>False</td>\n",
              "      <td>False</td>\n",
              "    </tr>\n",
              "    <tr>\n",
              "      <th>2</th>\n",
              "      <td>15600.0</td>\n",
              "      <td>36</td>\n",
              "      <td>10.49</td>\n",
              "      <td>506.97</td>\n",
              "      <td>RENT</td>\n",
              "      <td>43057.0</td>\n",
              "      <td>Jan-2015</td>\n",
              "      <td>12.79</td>\n",
              "      <td>Aug-2007</td>\n",
              "      <td>13.0</td>\n",
              "      <td>...</td>\n",
              "      <td>False</td>\n",
              "      <td>False</td>\n",
              "      <td>False</td>\n",
              "      <td>False</td>\n",
              "      <td>False</td>\n",
              "      <td>False</td>\n",
              "      <td>False</td>\n",
              "      <td>False</td>\n",
              "      <td>False</td>\n",
              "      <td>False</td>\n",
              "    </tr>\n",
              "    <tr>\n",
              "      <th>3</th>\n",
              "      <td>7200.0</td>\n",
              "      <td>36</td>\n",
              "      <td>6.49</td>\n",
              "      <td>220.65</td>\n",
              "      <td>RENT</td>\n",
              "      <td>54000.0</td>\n",
              "      <td>Nov-2014</td>\n",
              "      <td>2.60</td>\n",
              "      <td>Sep-2006</td>\n",
              "      <td>6.0</td>\n",
              "      <td>...</td>\n",
              "      <td>False</td>\n",
              "      <td>False</td>\n",
              "      <td>False</td>\n",
              "      <td>False</td>\n",
              "      <td>False</td>\n",
              "      <td>False</td>\n",
              "      <td>False</td>\n",
              "      <td>False</td>\n",
              "      <td>False</td>\n",
              "      <td>False</td>\n",
              "    </tr>\n",
              "    <tr>\n",
              "      <th>4</th>\n",
              "      <td>24375.0</td>\n",
              "      <td>60</td>\n",
              "      <td>17.27</td>\n",
              "      <td>609.33</td>\n",
              "      <td>MORTGAGE</td>\n",
              "      <td>55000.0</td>\n",
              "      <td>Apr-2013</td>\n",
              "      <td>33.95</td>\n",
              "      <td>Mar-1999</td>\n",
              "      <td>13.0</td>\n",
              "      <td>...</td>\n",
              "      <td>False</td>\n",
              "      <td>False</td>\n",
              "      <td>False</td>\n",
              "      <td>False</td>\n",
              "      <td>False</td>\n",
              "      <td>False</td>\n",
              "      <td>False</td>\n",
              "      <td>False</td>\n",
              "      <td>False</td>\n",
              "      <td>False</td>\n",
              "    </tr>\n",
              "  </tbody>\n",
              "</table>\n",
              "<p>5 rows × 70 columns</p>\n",
              "</div>"
            ],
            "text/plain": [
              "   loan_amnt  term  int_rate  installment home_ownership  annual_inc  \\\n",
              "0    10000.0    36     11.44       329.48           RENT    117000.0   \n",
              "1     8000.0    36     11.99       265.68       MORTGAGE     65000.0   \n",
              "2    15600.0    36     10.49       506.97           RENT     43057.0   \n",
              "3     7200.0    36      6.49       220.65           RENT     54000.0   \n",
              "4    24375.0    60     17.27       609.33       MORTGAGE     55000.0   \n",
              "\n",
              "    issue_d    dti earliest_cr_line  open_acc  ...  purpose_home_improvement  \\\n",
              "0  Jan-2015  26.24         Jun-1990      16.0  ...                     False   \n",
              "1  Jan-2015  22.05         Jul-2004      17.0  ...                     False   \n",
              "2  Jan-2015  12.79         Aug-2007      13.0  ...                     False   \n",
              "3  Nov-2014   2.60         Sep-2006       6.0  ...                     False   \n",
              "4  Apr-2013  33.95         Mar-1999      13.0  ...                     False   \n",
              "\n",
              "   purpose_house  purpose_major_purchase  purpose_medical  purpose_moving  \\\n",
              "0          False                   False            False           False   \n",
              "1          False                   False            False           False   \n",
              "2          False                   False            False           False   \n",
              "3          False                   False            False           False   \n",
              "4          False                   False            False           False   \n",
              "\n",
              "   purpose_other purpose_renewable_energy  purpose_small_business  \\\n",
              "0          False                    False                   False   \n",
              "1          False                    False                   False   \n",
              "2          False                    False                   False   \n",
              "3          False                    False                   False   \n",
              "4          False                    False                   False   \n",
              "\n",
              "   purpose_vacation  purpose_wedding  \n",
              "0              True            False  \n",
              "1             False            False  \n",
              "2             False            False  \n",
              "3             False            False  \n",
              "4             False            False  \n",
              "\n",
              "[5 rows x 70 columns]"
            ]
          },
          "execution_count": 122,
          "metadata": {},
          "output_type": "execute_result"
        }
      ],
      "source": [
        "data = data.drop(\"loan_status\",axis =1)\n",
        "data.head()"
      ]
    },
    {
      "cell_type": "markdown",
      "source": [
        "*loan_status* has already been converted into a binary target variable *(Loan_Repayed)*"
      ],
      "metadata": {
        "id": "9WWMdINbv2aD"
      },
      "id": "9WWMdINbv2aD"
    },
    {
      "cell_type": "code",
      "execution_count": null,
      "id": "b1e01074",
      "metadata": {
        "id": "b1e01074"
      },
      "outputs": [],
      "source": [
        "data[\"home_ownership\"]=data[\"home_ownership\"].replace([\"NONE\",\"ANY\"], \"OTHER\")"
      ]
    },
    {
      "cell_type": "code",
      "execution_count": null,
      "id": "31428464",
      "metadata": {
        "id": "31428464"
      },
      "outputs": [],
      "source": [
        "dummy = pd.get_dummies(data[\"home_ownership\"] , drop_first = True)\n",
        "data = pd.concat([data.drop(\"home_ownership\", axis = 1), dummy], axis = 1)"
      ]
    },
    {
      "cell_type": "code",
      "execution_count": null,
      "id": "92776c83",
      "metadata": {
        "id": "92776c83",
        "outputId": "36c0567b-910e-4a6a-d3e0-d63454c228c7"
      },
      "outputs": [
        {
          "data": {
            "text/html": [
              "<div>\n",
              "<style scoped>\n",
              "    .dataframe tbody tr th:only-of-type {\n",
              "        vertical-align: middle;\n",
              "    }\n",
              "\n",
              "    .dataframe tbody tr th {\n",
              "        vertical-align: top;\n",
              "    }\n",
              "\n",
              "    .dataframe thead th {\n",
              "        text-align: right;\n",
              "    }\n",
              "</style>\n",
              "<table border=\"1\" class=\"dataframe\">\n",
              "  <thead>\n",
              "    <tr style=\"text-align: right;\">\n",
              "      <th></th>\n",
              "      <th>loan_amnt</th>\n",
              "      <th>term</th>\n",
              "      <th>int_rate</th>\n",
              "      <th>installment</th>\n",
              "      <th>annual_inc</th>\n",
              "      <th>issue_d</th>\n",
              "      <th>dti</th>\n",
              "      <th>earliest_cr_line</th>\n",
              "      <th>open_acc</th>\n",
              "      <th>pub_rec</th>\n",
              "      <th>...</th>\n",
              "      <th>purpose_medical</th>\n",
              "      <th>purpose_moving</th>\n",
              "      <th>purpose_other</th>\n",
              "      <th>purpose_renewable_energy</th>\n",
              "      <th>purpose_small_business</th>\n",
              "      <th>purpose_vacation</th>\n",
              "      <th>purpose_wedding</th>\n",
              "      <th>OTHER</th>\n",
              "      <th>OWN</th>\n",
              "      <th>RENT</th>\n",
              "    </tr>\n",
              "  </thead>\n",
              "  <tbody>\n",
              "    <tr>\n",
              "      <th>0</th>\n",
              "      <td>10000.0</td>\n",
              "      <td>36</td>\n",
              "      <td>11.44</td>\n",
              "      <td>329.48</td>\n",
              "      <td>117000.0</td>\n",
              "      <td>Jan-2015</td>\n",
              "      <td>26.24</td>\n",
              "      <td>Jun-1990</td>\n",
              "      <td>16.0</td>\n",
              "      <td>0.0</td>\n",
              "      <td>...</td>\n",
              "      <td>False</td>\n",
              "      <td>False</td>\n",
              "      <td>False</td>\n",
              "      <td>False</td>\n",
              "      <td>False</td>\n",
              "      <td>True</td>\n",
              "      <td>False</td>\n",
              "      <td>False</td>\n",
              "      <td>False</td>\n",
              "      <td>True</td>\n",
              "    </tr>\n",
              "    <tr>\n",
              "      <th>1</th>\n",
              "      <td>8000.0</td>\n",
              "      <td>36</td>\n",
              "      <td>11.99</td>\n",
              "      <td>265.68</td>\n",
              "      <td>65000.0</td>\n",
              "      <td>Jan-2015</td>\n",
              "      <td>22.05</td>\n",
              "      <td>Jul-2004</td>\n",
              "      <td>17.0</td>\n",
              "      <td>0.0</td>\n",
              "      <td>...</td>\n",
              "      <td>False</td>\n",
              "      <td>False</td>\n",
              "      <td>False</td>\n",
              "      <td>False</td>\n",
              "      <td>False</td>\n",
              "      <td>False</td>\n",
              "      <td>False</td>\n",
              "      <td>False</td>\n",
              "      <td>False</td>\n",
              "      <td>False</td>\n",
              "    </tr>\n",
              "    <tr>\n",
              "      <th>2</th>\n",
              "      <td>15600.0</td>\n",
              "      <td>36</td>\n",
              "      <td>10.49</td>\n",
              "      <td>506.97</td>\n",
              "      <td>43057.0</td>\n",
              "      <td>Jan-2015</td>\n",
              "      <td>12.79</td>\n",
              "      <td>Aug-2007</td>\n",
              "      <td>13.0</td>\n",
              "      <td>0.0</td>\n",
              "      <td>...</td>\n",
              "      <td>False</td>\n",
              "      <td>False</td>\n",
              "      <td>False</td>\n",
              "      <td>False</td>\n",
              "      <td>False</td>\n",
              "      <td>False</td>\n",
              "      <td>False</td>\n",
              "      <td>False</td>\n",
              "      <td>False</td>\n",
              "      <td>True</td>\n",
              "    </tr>\n",
              "    <tr>\n",
              "      <th>3</th>\n",
              "      <td>7200.0</td>\n",
              "      <td>36</td>\n",
              "      <td>6.49</td>\n",
              "      <td>220.65</td>\n",
              "      <td>54000.0</td>\n",
              "      <td>Nov-2014</td>\n",
              "      <td>2.60</td>\n",
              "      <td>Sep-2006</td>\n",
              "      <td>6.0</td>\n",
              "      <td>0.0</td>\n",
              "      <td>...</td>\n",
              "      <td>False</td>\n",
              "      <td>False</td>\n",
              "      <td>False</td>\n",
              "      <td>False</td>\n",
              "      <td>False</td>\n",
              "      <td>False</td>\n",
              "      <td>False</td>\n",
              "      <td>False</td>\n",
              "      <td>False</td>\n",
              "      <td>True</td>\n",
              "    </tr>\n",
              "    <tr>\n",
              "      <th>4</th>\n",
              "      <td>24375.0</td>\n",
              "      <td>60</td>\n",
              "      <td>17.27</td>\n",
              "      <td>609.33</td>\n",
              "      <td>55000.0</td>\n",
              "      <td>Apr-2013</td>\n",
              "      <td>33.95</td>\n",
              "      <td>Mar-1999</td>\n",
              "      <td>13.0</td>\n",
              "      <td>0.0</td>\n",
              "      <td>...</td>\n",
              "      <td>False</td>\n",
              "      <td>False</td>\n",
              "      <td>False</td>\n",
              "      <td>False</td>\n",
              "      <td>False</td>\n",
              "      <td>False</td>\n",
              "      <td>False</td>\n",
              "      <td>False</td>\n",
              "      <td>False</td>\n",
              "      <td>False</td>\n",
              "    </tr>\n",
              "  </tbody>\n",
              "</table>\n",
              "<p>5 rows × 72 columns</p>\n",
              "</div>"
            ],
            "text/plain": [
              "   loan_amnt  term  int_rate  installment  annual_inc   issue_d    dti  \\\n",
              "0    10000.0    36     11.44       329.48    117000.0  Jan-2015  26.24   \n",
              "1     8000.0    36     11.99       265.68     65000.0  Jan-2015  22.05   \n",
              "2    15600.0    36     10.49       506.97     43057.0  Jan-2015  12.79   \n",
              "3     7200.0    36      6.49       220.65     54000.0  Nov-2014   2.60   \n",
              "4    24375.0    60     17.27       609.33     55000.0  Apr-2013  33.95   \n",
              "\n",
              "  earliest_cr_line  open_acc  pub_rec  ...  purpose_medical  purpose_moving  \\\n",
              "0         Jun-1990      16.0      0.0  ...            False           False   \n",
              "1         Jul-2004      17.0      0.0  ...            False           False   \n",
              "2         Aug-2007      13.0      0.0  ...            False           False   \n",
              "3         Sep-2006       6.0      0.0  ...            False           False   \n",
              "4         Mar-1999      13.0      0.0  ...            False           False   \n",
              "\n",
              "   purpose_other  purpose_renewable_energy  purpose_small_business  \\\n",
              "0          False                     False                   False   \n",
              "1          False                     False                   False   \n",
              "2          False                     False                   False   \n",
              "3          False                     False                   False   \n",
              "4          False                     False                   False   \n",
              "\n",
              "  purpose_vacation  purpose_wedding  OTHER    OWN   RENT  \n",
              "0             True            False  False  False   True  \n",
              "1            False            False  False  False  False  \n",
              "2            False            False  False  False   True  \n",
              "3            False            False  False  False   True  \n",
              "4            False            False  False  False  False  \n",
              "\n",
              "[5 rows x 72 columns]"
            ]
          },
          "execution_count": 128,
          "metadata": {},
          "output_type": "execute_result"
        }
      ],
      "source": [
        "data.head()"
      ]
    },
    {
      "cell_type": "code",
      "execution_count": null,
      "id": "d9bd3e6b",
      "metadata": {
        "id": "d9bd3e6b"
      },
      "outputs": [],
      "source": [
        "data[\"zip_code\"]= data[\"address\"].apply(lambda address: address[-5:])\n",
        "data = data.drop(\"address\", axis= 1)"
      ]
    },
    {
      "cell_type": "code",
      "execution_count": null,
      "id": "147d6a2a",
      "metadata": {
        "id": "147d6a2a"
      },
      "outputs": [],
      "source": [
        "dummy = pd.get_dummies(data[\"zip_code\"] , drop_first = True)\n",
        "data = pd.concat([data.drop(\"zip_code\", axis = 1), dummy], axis = 1)"
      ]
    },
    {
      "cell_type": "code",
      "execution_count": null,
      "id": "194f602a",
      "metadata": {
        "id": "194f602a"
      },
      "outputs": [],
      "source": [
        "data = data.drop(\"issue_d\", axis= 1)"
      ]
    },
    {
      "cell_type": "markdown",
      "source": [
        "It is not useful for predicting loan repayment because it does not provide direct information about the borrower's creditworthiness.\n",
        "\n",
        "Keeping *issue_d* could introduce data leakage, meaning that future data (such as knowing when a loan was issued) could unfairly influence predictions."
      ],
      "metadata": {
        "id": "wIwEr26EwBeZ"
      },
      "id": "wIwEr26EwBeZ"
    },
    {
      "cell_type": "code",
      "execution_count": null,
      "id": "31cdccd2",
      "metadata": {
        "id": "31cdccd2",
        "outputId": "ffca2df1-26e5-4c1e-c509-f774cfec1d0d"
      },
      "outputs": [
        {
          "data": {
            "text/html": [
              "<div>\n",
              "<style scoped>\n",
              "    .dataframe tbody tr th:only-of-type {\n",
              "        vertical-align: middle;\n",
              "    }\n",
              "\n",
              "    .dataframe tbody tr th {\n",
              "        vertical-align: top;\n",
              "    }\n",
              "\n",
              "    .dataframe thead th {\n",
              "        text-align: right;\n",
              "    }\n",
              "</style>\n",
              "<table border=\"1\" class=\"dataframe\">\n",
              "  <thead>\n",
              "    <tr style=\"text-align: right;\">\n",
              "      <th></th>\n",
              "      <th>loan_amnt</th>\n",
              "      <th>term</th>\n",
              "      <th>int_rate</th>\n",
              "      <th>installment</th>\n",
              "      <th>annual_inc</th>\n",
              "      <th>dti</th>\n",
              "      <th>earliest_cr_line</th>\n",
              "      <th>open_acc</th>\n",
              "      <th>pub_rec</th>\n",
              "      <th>revol_bal</th>\n",
              "      <th>...</th>\n",
              "      <th>RENT</th>\n",
              "      <th>05113</th>\n",
              "      <th>11650</th>\n",
              "      <th>22690</th>\n",
              "      <th>29597</th>\n",
              "      <th>30723</th>\n",
              "      <th>48052</th>\n",
              "      <th>70466</th>\n",
              "      <th>86630</th>\n",
              "      <th>93700</th>\n",
              "    </tr>\n",
              "  </thead>\n",
              "  <tbody>\n",
              "    <tr>\n",
              "      <th>0</th>\n",
              "      <td>10000.0</td>\n",
              "      <td>36</td>\n",
              "      <td>11.44</td>\n",
              "      <td>329.48</td>\n",
              "      <td>117000.0</td>\n",
              "      <td>26.24</td>\n",
              "      <td>Jun-1990</td>\n",
              "      <td>16.0</td>\n",
              "      <td>0.0</td>\n",
              "      <td>36369.0</td>\n",
              "      <td>...</td>\n",
              "      <td>True</td>\n",
              "      <td>False</td>\n",
              "      <td>False</td>\n",
              "      <td>True</td>\n",
              "      <td>False</td>\n",
              "      <td>False</td>\n",
              "      <td>False</td>\n",
              "      <td>False</td>\n",
              "      <td>False</td>\n",
              "      <td>False</td>\n",
              "    </tr>\n",
              "    <tr>\n",
              "      <th>1</th>\n",
              "      <td>8000.0</td>\n",
              "      <td>36</td>\n",
              "      <td>11.99</td>\n",
              "      <td>265.68</td>\n",
              "      <td>65000.0</td>\n",
              "      <td>22.05</td>\n",
              "      <td>Jul-2004</td>\n",
              "      <td>17.0</td>\n",
              "      <td>0.0</td>\n",
              "      <td>20131.0</td>\n",
              "      <td>...</td>\n",
              "      <td>False</td>\n",
              "      <td>True</td>\n",
              "      <td>False</td>\n",
              "      <td>False</td>\n",
              "      <td>False</td>\n",
              "      <td>False</td>\n",
              "      <td>False</td>\n",
              "      <td>False</td>\n",
              "      <td>False</td>\n",
              "      <td>False</td>\n",
              "    </tr>\n",
              "    <tr>\n",
              "      <th>2</th>\n",
              "      <td>15600.0</td>\n",
              "      <td>36</td>\n",
              "      <td>10.49</td>\n",
              "      <td>506.97</td>\n",
              "      <td>43057.0</td>\n",
              "      <td>12.79</td>\n",
              "      <td>Aug-2007</td>\n",
              "      <td>13.0</td>\n",
              "      <td>0.0</td>\n",
              "      <td>11987.0</td>\n",
              "      <td>...</td>\n",
              "      <td>True</td>\n",
              "      <td>True</td>\n",
              "      <td>False</td>\n",
              "      <td>False</td>\n",
              "      <td>False</td>\n",
              "      <td>False</td>\n",
              "      <td>False</td>\n",
              "      <td>False</td>\n",
              "      <td>False</td>\n",
              "      <td>False</td>\n",
              "    </tr>\n",
              "    <tr>\n",
              "      <th>3</th>\n",
              "      <td>7200.0</td>\n",
              "      <td>36</td>\n",
              "      <td>6.49</td>\n",
              "      <td>220.65</td>\n",
              "      <td>54000.0</td>\n",
              "      <td>2.60</td>\n",
              "      <td>Sep-2006</td>\n",
              "      <td>6.0</td>\n",
              "      <td>0.0</td>\n",
              "      <td>5472.0</td>\n",
              "      <td>...</td>\n",
              "      <td>True</td>\n",
              "      <td>False</td>\n",
              "      <td>False</td>\n",
              "      <td>False</td>\n",
              "      <td>False</td>\n",
              "      <td>False</td>\n",
              "      <td>False</td>\n",
              "      <td>False</td>\n",
              "      <td>False</td>\n",
              "      <td>False</td>\n",
              "    </tr>\n",
              "    <tr>\n",
              "      <th>4</th>\n",
              "      <td>24375.0</td>\n",
              "      <td>60</td>\n",
              "      <td>17.27</td>\n",
              "      <td>609.33</td>\n",
              "      <td>55000.0</td>\n",
              "      <td>33.95</td>\n",
              "      <td>Mar-1999</td>\n",
              "      <td>13.0</td>\n",
              "      <td>0.0</td>\n",
              "      <td>24584.0</td>\n",
              "      <td>...</td>\n",
              "      <td>False</td>\n",
              "      <td>False</td>\n",
              "      <td>True</td>\n",
              "      <td>False</td>\n",
              "      <td>False</td>\n",
              "      <td>False</td>\n",
              "      <td>False</td>\n",
              "      <td>False</td>\n",
              "      <td>False</td>\n",
              "      <td>False</td>\n",
              "    </tr>\n",
              "  </tbody>\n",
              "</table>\n",
              "<p>5 rows × 79 columns</p>\n",
              "</div>"
            ],
            "text/plain": [
              "   loan_amnt  term  int_rate  installment  annual_inc    dti earliest_cr_line  \\\n",
              "0    10000.0    36     11.44       329.48    117000.0  26.24         Jun-1990   \n",
              "1     8000.0    36     11.99       265.68     65000.0  22.05         Jul-2004   \n",
              "2    15600.0    36     10.49       506.97     43057.0  12.79         Aug-2007   \n",
              "3     7200.0    36      6.49       220.65     54000.0   2.60         Sep-2006   \n",
              "4    24375.0    60     17.27       609.33     55000.0  33.95         Mar-1999   \n",
              "\n",
              "   open_acc  pub_rec  revol_bal  ...   RENT  05113  11650  22690  29597  \\\n",
              "0      16.0      0.0    36369.0  ...   True  False  False   True  False   \n",
              "1      17.0      0.0    20131.0  ...  False   True  False  False  False   \n",
              "2      13.0      0.0    11987.0  ...   True   True  False  False  False   \n",
              "3       6.0      0.0     5472.0  ...   True  False  False  False  False   \n",
              "4      13.0      0.0    24584.0  ...  False  False   True  False  False   \n",
              "\n",
              "   30723  48052  70466  86630  93700  \n",
              "0  False  False  False  False  False  \n",
              "1  False  False  False  False  False  \n",
              "2  False  False  False  False  False  \n",
              "3  False  False  False  False  False  \n",
              "4  False  False  False  False  False  \n",
              "\n",
              "[5 rows x 79 columns]"
            ]
          },
          "execution_count": 136,
          "metadata": {},
          "output_type": "execute_result"
        }
      ],
      "source": [
        "data.head()"
      ]
    },
    {
      "cell_type": "code",
      "execution_count": null,
      "id": "603cd9bf",
      "metadata": {
        "id": "603cd9bf"
      },
      "outputs": [],
      "source": [
        "data[\"earliest_cr_line\"]= data[\"earliest_cr_line\"].apply(lambda year: int(year[-4:]))"
      ]
    },
    {
      "cell_type": "code",
      "execution_count": null,
      "id": "3adb2ac4",
      "metadata": {
        "id": "3adb2ac4",
        "outputId": "19432755-2c65-4373-dd21-13eb78178e47"
      },
      "outputs": [
        {
          "data": {
            "text/plain": [
              "Index([], dtype='object')"
            ]
          },
          "execution_count": 140,
          "metadata": {},
          "output_type": "execute_result"
        }
      ],
      "source": [
        "data.select_dtypes([\"object\"]).columns"
      ]
    },
    {
      "cell_type": "code",
      "execution_count": null,
      "id": "a462fa37",
      "metadata": {
        "id": "a462fa37",
        "outputId": "7f97dbe3-4162-425d-fb28-9b5f931309fd"
      },
      "outputs": [
        {
          "data": {
            "text/plain": [
              "Index(['loan_amnt', 'term', 'int_rate', 'installment', 'annual_inc', 'dti',\n",
              "       'earliest_cr_line', 'open_acc', 'pub_rec', 'revol_bal', 'revol_util',\n",
              "       'total_acc', 'mort_acc', 'pub_rec_bankruptcies', 'Loan_Repayed', 'A2',\n",
              "       'A3', 'A4', 'A5', 'B1', 'B2', 'B3', 'B4', 'B5', 'C1', 'C2', 'C3', 'C4',\n",
              "       'C5', 'D1', 'D2', 'D3', 'D4', 'D5', 'E1', 'E2', 'E3', 'E4', 'E5', 'F1',\n",
              "       'F2', 'F3', 'F4', 'F5', 'G1', 'G2', 'G3', 'G4', 'G5',\n",
              "       'verification_status_Source Verified', 'verification_status_Verified',\n",
              "       'application_type_INDIVIDUAL', 'application_type_JOINT',\n",
              "       'initial_list_status_w', 'purpose_credit_card',\n",
              "       'purpose_debt_consolidation', 'purpose_educational',\n",
              "       'purpose_home_improvement', 'purpose_house', 'purpose_major_purchase',\n",
              "       'purpose_medical', 'purpose_moving', 'purpose_other',\n",
              "       'purpose_renewable_energy', 'purpose_small_business',\n",
              "       'purpose_vacation', 'purpose_wedding', 'OTHER', 'OWN', 'RENT', '05113',\n",
              "       '11650', '22690', '29597', '30723', '48052', '70466', '86630', '93700'],\n",
              "      dtype='object')"
            ]
          },
          "execution_count": 142,
          "metadata": {},
          "output_type": "execute_result"
        }
      ],
      "source": [
        "data.columns"
      ]
    },
    {
      "cell_type": "code",
      "execution_count": null,
      "id": "e1a57aae",
      "metadata": {
        "id": "e1a57aae"
      },
      "outputs": [],
      "source": [
        "a = data.corr()[\"Loan_Repayed\"].reset_index()"
      ]
    },
    {
      "cell_type": "code",
      "execution_count": null,
      "id": "d544d932",
      "metadata": {
        "id": "d544d932",
        "outputId": "9245d7d1-d6c6-4dba-e70c-754a06c96cae"
      },
      "outputs": [
        {
          "data": {
            "text/html": [
              "<div>\n",
              "<style scoped>\n",
              "    .dataframe tbody tr th:only-of-type {\n",
              "        vertical-align: middle;\n",
              "    }\n",
              "\n",
              "    .dataframe tbody tr th {\n",
              "        vertical-align: top;\n",
              "    }\n",
              "\n",
              "    .dataframe thead th {\n",
              "        text-align: right;\n",
              "    }\n",
              "</style>\n",
              "<table border=\"1\" class=\"dataframe\">\n",
              "  <thead>\n",
              "    <tr style=\"text-align: right;\">\n",
              "      <th></th>\n",
              "      <th>index</th>\n",
              "      <th>Loan_Repayed</th>\n",
              "    </tr>\n",
              "  </thead>\n",
              "  <tbody>\n",
              "    <tr>\n",
              "      <th>0</th>\n",
              "      <td>loan_amnt</td>\n",
              "      <td>-0.059836</td>\n",
              "    </tr>\n",
              "    <tr>\n",
              "      <th>1</th>\n",
              "      <td>term</td>\n",
              "      <td>-0.173246</td>\n",
              "    </tr>\n",
              "    <tr>\n",
              "      <th>2</th>\n",
              "      <td>int_rate</td>\n",
              "      <td>-0.247758</td>\n",
              "    </tr>\n",
              "    <tr>\n",
              "      <th>3</th>\n",
              "      <td>installment</td>\n",
              "      <td>-0.041082</td>\n",
              "    </tr>\n",
              "    <tr>\n",
              "      <th>4</th>\n",
              "      <td>annual_inc</td>\n",
              "      <td>0.053432</td>\n",
              "    </tr>\n",
              "    <tr>\n",
              "      <th>...</th>\n",
              "      <td>...</td>\n",
              "      <td>...</td>\n",
              "    </tr>\n",
              "    <tr>\n",
              "      <th>74</th>\n",
              "      <td>30723</td>\n",
              "      <td>0.001260</td>\n",
              "    </tr>\n",
              "    <tr>\n",
              "      <th>75</th>\n",
              "      <td>48052</td>\n",
              "      <td>-0.004110</td>\n",
              "    </tr>\n",
              "    <tr>\n",
              "      <th>76</th>\n",
              "      <td>70466</td>\n",
              "      <td>0.000515</td>\n",
              "    </tr>\n",
              "    <tr>\n",
              "      <th>77</th>\n",
              "      <td>86630</td>\n",
              "      <td>-0.341889</td>\n",
              "    </tr>\n",
              "    <tr>\n",
              "      <th>78</th>\n",
              "      <td>93700</td>\n",
              "      <td>-0.344601</td>\n",
              "    </tr>\n",
              "  </tbody>\n",
              "</table>\n",
              "<p>79 rows × 2 columns</p>\n",
              "</div>"
            ],
            "text/plain": [
              "          index  Loan_Repayed\n",
              "0     loan_amnt     -0.059836\n",
              "1          term     -0.173246\n",
              "2      int_rate     -0.247758\n",
              "3   installment     -0.041082\n",
              "4    annual_inc      0.053432\n",
              "..          ...           ...\n",
              "74        30723      0.001260\n",
              "75        48052     -0.004110\n",
              "76        70466      0.000515\n",
              "77        86630     -0.341889\n",
              "78        93700     -0.344601\n",
              "\n",
              "[79 rows x 2 columns]"
            ]
          },
          "execution_count": 145,
          "metadata": {},
          "output_type": "execute_result"
        }
      ],
      "source": [
        "a"
      ]
    },
    {
      "cell_type": "code",
      "execution_count": null,
      "id": "2078f3f1",
      "metadata": {
        "id": "2078f3f1",
        "outputId": "cc5399b6-3c8c-429f-f5a8-463b01cb07f2"
      },
      "outputs": [
        {
          "data": {
            "text/html": [
              "<div>\n",
              "<style scoped>\n",
              "    .dataframe tbody tr th:only-of-type {\n",
              "        vertical-align: middle;\n",
              "    }\n",
              "\n",
              "    .dataframe tbody tr th {\n",
              "        vertical-align: top;\n",
              "    }\n",
              "\n",
              "    .dataframe thead th {\n",
              "        text-align: right;\n",
              "    }\n",
              "</style>\n",
              "<table border=\"1\" class=\"dataframe\">\n",
              "  <thead>\n",
              "    <tr style=\"text-align: right;\">\n",
              "      <th></th>\n",
              "      <th>index</th>\n",
              "      <th>Loan_Repayed</th>\n",
              "    </tr>\n",
              "  </thead>\n",
              "  <tbody>\n",
              "    <tr>\n",
              "      <th>14</th>\n",
              "      <td>Loan_Repayed</td>\n",
              "      <td>1.000000</td>\n",
              "    </tr>\n",
              "    <tr>\n",
              "      <th>70</th>\n",
              "      <td>05113</td>\n",
              "      <td>0.177743</td>\n",
              "    </tr>\n",
              "    <tr>\n",
              "      <th>73</th>\n",
              "      <td>29597</td>\n",
              "      <td>0.177895</td>\n",
              "    </tr>\n",
              "  </tbody>\n",
              "</table>\n",
              "</div>"
            ],
            "text/plain": [
              "           index  Loan_Repayed\n",
              "14  Loan_Repayed      1.000000\n",
              "70         05113      0.177743\n",
              "73         29597      0.177895"
            ]
          },
          "execution_count": 146,
          "metadata": {},
          "output_type": "execute_result"
        }
      ],
      "source": [
        "a[a[\"Loan_Repayed\"]>0.15]"
      ]
    },
    {
      "cell_type": "code",
      "execution_count": null,
      "id": "2139114a",
      "metadata": {
        "id": "2139114a",
        "outputId": "407e2239-09b9-45ce-9882-d695963bfe6f"
      },
      "outputs": [
        {
          "data": {
            "text/html": [
              "<div>\n",
              "<style scoped>\n",
              "    .dataframe tbody tr th:only-of-type {\n",
              "        vertical-align: middle;\n",
              "    }\n",
              "\n",
              "    .dataframe tbody tr th {\n",
              "        vertical-align: top;\n",
              "    }\n",
              "\n",
              "    .dataframe thead th {\n",
              "        text-align: right;\n",
              "    }\n",
              "</style>\n",
              "<table border=\"1\" class=\"dataframe\">\n",
              "  <thead>\n",
              "    <tr style=\"text-align: right;\">\n",
              "      <th></th>\n",
              "      <th>index</th>\n",
              "      <th>Loan_Repayed</th>\n",
              "    </tr>\n",
              "  </thead>\n",
              "  <tbody>\n",
              "    <tr>\n",
              "      <th>1</th>\n",
              "      <td>term</td>\n",
              "      <td>-0.173246</td>\n",
              "    </tr>\n",
              "    <tr>\n",
              "      <th>2</th>\n",
              "      <td>int_rate</td>\n",
              "      <td>-0.247758</td>\n",
              "    </tr>\n",
              "    <tr>\n",
              "      <th>71</th>\n",
              "      <td>11650</td>\n",
              "      <td>-0.345792</td>\n",
              "    </tr>\n",
              "    <tr>\n",
              "      <th>77</th>\n",
              "      <td>86630</td>\n",
              "      <td>-0.341889</td>\n",
              "    </tr>\n",
              "    <tr>\n",
              "      <th>78</th>\n",
              "      <td>93700</td>\n",
              "      <td>-0.344601</td>\n",
              "    </tr>\n",
              "  </tbody>\n",
              "</table>\n",
              "</div>"
            ],
            "text/plain": [
              "       index  Loan_Repayed\n",
              "1       term     -0.173246\n",
              "2   int_rate     -0.247758\n",
              "71     11650     -0.345792\n",
              "77     86630     -0.341889\n",
              "78     93700     -0.344601"
            ]
          },
          "execution_count": 147,
          "metadata": {},
          "output_type": "execute_result"
        }
      ],
      "source": [
        "a[a[\"Loan_Repayed\"]<(-0.15)]"
      ]
    },
    {
      "cell_type": "code",
      "execution_count": null,
      "id": "8405972d",
      "metadata": {
        "id": "8405972d"
      },
      "outputs": [],
      "source": [
        "X = data[[\"05113\",\"29597\",\"term\",\"int_rate\",\"11650\",\"86630\",\"93700\"]]\n",
        "Y = data[\"Loan_Repayed\"]"
      ]
    },
    {
      "cell_type": "code",
      "execution_count": null,
      "id": "aeb9a5c9",
      "metadata": {
        "id": "aeb9a5c9"
      },
      "outputs": [],
      "source": [
        "from sklearn.model_selection import train_test_split\n",
        "X_train, X_test,Y_train, Y_test = train_test_split(X, Y ,  test_size=0.20)"
      ]
    },
    {
      "cell_type": "code",
      "execution_count": null,
      "id": "36ee2b7d",
      "metadata": {
        "id": "36ee2b7d"
      },
      "outputs": [],
      "source": [
        "from sklearn.preprocessing import MinMaxScaler\n",
        "scaler = MinMaxScaler()"
      ]
    },
    {
      "cell_type": "code",
      "execution_count": null,
      "id": "4b5ea118",
      "metadata": {
        "id": "4b5ea118"
      },
      "outputs": [],
      "source": [
        "#X_train = scaler.fit_transform(X_train)\n",
        "#X_test = scaler.fit_transform(X_test)\n",
        "#Y_train = scaler.fit_transform(Y_train)\n",
        "#Y_test = scaler.fit_transform(Y_test)"
      ]
    },
    {
      "cell_type": "code",
      "execution_count": null,
      "id": "7c920e28",
      "metadata": {
        "id": "7c920e28"
      },
      "outputs": [],
      "source": [
        "import tensorflow as tf\n",
        "from tensorflow.keras.layers import Dense, Dropout\n",
        "from tensorflow.keras.models import Sequential"
      ]
    },
    {
      "cell_type": "markdown",
      "source": [
        "# ***Logistic Regression***"
      ],
      "metadata": {
        "id": "UiyF2fSbnPcK"
      },
      "id": "UiyF2fSbnPcK"
    },
    {
      "cell_type": "code",
      "execution_count": null,
      "id": "3dcb46e7",
      "metadata": {
        "id": "3dcb46e7"
      },
      "outputs": [],
      "source": [
        "from sklearn.linear_model import LogisticRegression\n",
        "from sklearn.metrics import f1_score\n",
        "from sklearn.metrics import classification_report , confusion_matrix"
      ]
    },
    {
      "cell_type": "code",
      "execution_count": null,
      "id": "06925c79",
      "metadata": {
        "id": "06925c79",
        "outputId": "b40c1b2d-ddc5-4555-a3c6-67db44738c49"
      },
      "outputs": [
        {
          "name": "stdout",
          "output_type": "stream",
          "text": [
            "Model Score : 0.8877862788172614\n"
          ]
        }
      ],
      "source": [
        "model= LogisticRegression()\n",
        "model.fit(X_train,Y_train)\n",
        "ms = model.score(X_test,Y_test)\n",
        "print(f\"Model Score : {ms}\")"
      ]
    },
    {
      "cell_type": "code",
      "execution_count": null,
      "id": "b5196200",
      "metadata": {
        "id": "b5196200"
      },
      "outputs": [],
      "source": [
        "predict = model.predict(X_test)"
      ]
    },
    {
      "cell_type": "code",
      "execution_count": null,
      "id": "00586100",
      "metadata": {
        "id": "00586100",
        "outputId": "96739c48-7dc9-45e7-f884-67c3b6e75a88"
      },
      "outputs": [
        {
          "name": "stdout",
          "output_type": "stream",
          "text": [
            "F1 Score : 0.8877862788172614\n"
          ]
        }
      ],
      "source": [
        "f1 = f1_score(Y_test,predict, average = \"micro\")\n",
        "print(f\"F1 Score : {f1}\")"
      ]
    },
    {
      "cell_type": "markdown",
      "source": [
        "# ***Decision Tree***"
      ],
      "metadata": {
        "id": "cy1rg0y5nDZ9"
      },
      "id": "cy1rg0y5nDZ9"
    },
    {
      "cell_type": "code",
      "execution_count": null,
      "id": "113b4bfa",
      "metadata": {
        "id": "113b4bfa",
        "outputId": "0f25628c-27f5-45a0-ccd7-9119f655d183"
      },
      "outputs": [
        {
          "name": "stdout",
          "output_type": "stream",
          "text": [
            "Model Score : 0.8878872812665707\n"
          ]
        }
      ],
      "source": [
        "from sklearn.tree import DecisionTreeClassifier\n",
        "model1= DecisionTreeClassifier()\n",
        "model1.fit(X_train,Y_train)\n",
        "ms1 = model1.score(X_test,Y_test)\n",
        "print(f\"Model Score : {ms1}\")"
      ]
    },
    {
      "cell_type": "code",
      "execution_count": null,
      "id": "bfd22367",
      "metadata": {
        "id": "bfd22367",
        "outputId": "59f24207-0465-4c41-9ee6-df5147fc9400"
      },
      "outputs": [
        {
          "name": "stdout",
          "output_type": "stream",
          "text": [
            "F1 Score : 0.8878872812665707\n"
          ]
        }
      ],
      "source": [
        "predict1 = model1.predict(X_test)\n",
        "f1_1 = f1_score(Y_test,predict1, average = \"micro\")\n",
        "print(f\"F1 Score : {f1_1}\")"
      ]
    },
    {
      "cell_type": "code",
      "execution_count": null,
      "id": "c304b574",
      "metadata": {
        "id": "c304b574",
        "outputId": "32680e11-0416-4731-afda-ded9c36aaac3"
      },
      "outputs": [
        {
          "data": {
            "text/plain": [
              "array([[ 6712,  8797],\n",
              "       [   83, 63614]], dtype=int64)"
            ]
          },
          "execution_count": 257,
          "metadata": {},
          "output_type": "execute_result"
        }
      ],
      "source": [
        "conf_matrix=confusion_matrix(Y_test,predict1)\n",
        "conf_matrix"
      ]
    },
    {
      "cell_type": "code",
      "execution_count": null,
      "id": "b533ed15-13bd-4265-8b19-eba67f8744f1",
      "metadata": {
        "id": "b533ed15-13bd-4265-8b19-eba67f8744f1",
        "outputId": "e13197a0-422d-44e8-f9f3-3330053d36e7"
      },
      "outputs": [
        {
          "data": {
            "image/png": "[encoded data removed]",
            "text/plain": [
              "<Figure size 640x480 with 2 Axes>"
            ]
          },
          "metadata": {},
          "output_type": "display_data"
        }
      ],
      "source": [
        "import matplotlib.pyplot as plt\n",
        "from sklearn.metrics import ConfusionMatrixDisplay\n",
        "\n",
        "# Plot the confusion matrix\n",
        "ConfusionMatrixDisplay(confusion_matrix=conf_matrix).plot()\n",
        "plt.title(\"Confusion Matrix\")\n",
        "plt.show()\n"
      ]
    },
    {
      "cell_type": "markdown",
      "source": [
        "Based on the confusion matrix, we can make the following observations;\n",
        "\n",
        "\n",
        "1.   True Positives (63,614) are very high.\n",
        "2.   False Negatives (83) are very low (*meaning very few actual defaulters were misclassified*).\n",
        "3. False Positives (8,797) are quite high (*many non-defaulters were wrongly classified as defaulters.*)\n",
        "\n",
        "This could lead to unnecessary loan rejections, affecting customers who actually would have repaid their loans.\n",
        "\n",
        "\n",
        "\n"
      ],
      "metadata": {
        "id": "kkWdIsirtcfc"
      },
      "id": "kkWdIsirtcfc"
    },
    {
      "cell_type": "code",
      "execution_count": null,
      "id": "4f3c76b0",
      "metadata": {
        "id": "4f3c76b0",
        "outputId": "fb55253e-5727-4ea0-a972-58865fb868e0"
      },
      "outputs": [
        {
          "name": "stdout",
          "output_type": "stream",
          "text": [
            "Model Score : 0.8880766608590258\n"
          ]
        }
      ],
      "source": [
        "from sklearn.ensemble import RandomForestClassifier\n",
        "model2= RandomForestClassifier()\n",
        "model2.fit(X_train,Y_train)\n",
        "ms2 = model2.score(X_test,Y_test)\n",
        "print(f\"Model Score : {ms2}\")"
      ]
    },
    {
      "cell_type": "code",
      "execution_count": null,
      "id": "939da1af",
      "metadata": {
        "id": "939da1af",
        "outputId": "e1a61fdd-3b79-4e93-f1b7-1b0a9aa95987"
      },
      "outputs": [
        {
          "name": "stdout",
          "output_type": "stream",
          "text": [
            "f1 score for Random Forest Classifier: 0.8880766608590258\n"
          ]
        }
      ],
      "source": [
        "predict2 = model2.predict(X_test)\n",
        "f1_2 = f1_score(Y_test,predict2, average = \"micro\")\n",
        "print(\"f1 score for Random Forest Classifier:\", f1_2)"
      ]
    },
    {
      "cell_type": "code",
      "execution_count": null,
      "id": "430c3427",
      "metadata": {
        "scrolled": true,
        "id": "430c3427"
      },
      "outputs": [],
      "source": [
        "import tensorflow as tf"
      ]
    },
    {
      "cell_type": "code",
      "execution_count": null,
      "id": "77251ee8",
      "metadata": {
        "id": "77251ee8"
      },
      "outputs": [],
      "source": [
        "from sklearn.preprocessing import MinMaxScaler\n",
        "scaler = MinMaxScaler()\n",
        "X_train=scaler.fit_transform(X_train)\n",
        "X_test = scaler.transform(X_test)"
      ]
    },
    {
      "cell_type": "code",
      "execution_count": null,
      "id": "f5dc7d77",
      "metadata": {
        "id": "f5dc7d77"
      },
      "outputs": [],
      "source": [
        "import tensorflow as tf\n",
        "from tensorflow.keras.layers import Dense, Dropout\n",
        "from tensorflow.keras.models import Sequential\n",
        "from tensorflow.keras.optimizers import Adam"
      ]
    },
    {
      "cell_type": "code",
      "execution_count": null,
      "id": "38ff87c6",
      "metadata": {
        "id": "38ff87c6",
        "outputId": "be01e384-b21f-4981-d8f8-53c08d1b97b7"
      },
      "outputs": [
        {
          "name": "stdout",
          "output_type": "stream",
          "text": [
            "f1 score for Logistic Regression: 0.8877862788172614\n",
            "f1 score for Decision Tree Classifier: 0.8878872812665707\n",
            "f1 score for Random Forest Classifier: 0.8880766608590258\n"
          ]
        }
      ],
      "source": [
        "print(\"f1 score for Logistic Regression:\",f1)\n",
        "print(\"f1 score for Decision Tree Classifier:\",f1_1)\n",
        "print(\"f1 score for Random Forest Classifier:\", f1_2)"
      ]
    },
    {
      "cell_type": "markdown",
      "source": [
        "All three models perform similarly in balancing precision and recall.Random Forest performs slightly better (0.8881), suggesting better generalization and slightly improved classification of loan defaults. This aids in our assignment as random forest acts as a strong classifier and identifies which features influence default risk the most."
      ],
      "metadata": {
        "id": "qE617P2owYbv"
      },
      "id": "qE617P2owYbv"
    },
    {
      "cell_type": "code",
      "execution_count": null,
      "id": "3608076a",
      "metadata": {
        "id": "3608076a",
        "outputId": "f0a10fb9-438b-4d5b-b746-c79569d71f38"
      },
      "outputs": [
        {
          "name": "stdout",
          "output_type": "stream",
          "text": [
            "model score for Logistic Regression: 0.8877862788172614\n",
            "model score for Decision Tree Classifier: 0.8878872812665707\n",
            "model score for Random Forest Classifier: 0.8880766608590258\n"
          ]
        }
      ],
      "source": [
        "print(\"model score for Logistic Regression:\", ms)\n",
        "print(\"model score for Decision Tree Classifier:\",ms1)\n",
        "print(\"model score for Random Forest Classifier:\", ms2)"
      ]
    },
    {
      "cell_type": "markdown",
      "source": [
        "all three models, LR, DT and RF achieved similar scores of 88.8% implying that historical loan data is a strong predictor of future loan repayment.\n",
        "\n",
        "It is to be noted that random forest outperforms logistic and decision tree scores, suggesting that loan repayment patterns are not purely linear (which would favor Logistic Regression) and benefit from ensemble learning."
      ],
      "metadata": {
        "id": "uYOviUMSvi5M"
      },
      "id": "uYOviUMSvi5M"
    },
    {
      "cell_type": "markdown",
      "source": [
        "# ***kNN Classifier***"
      ],
      "metadata": {
        "id": "QWhZYfuFmab-"
      },
      "id": "QWhZYfuFmab-"
    },
    {
      "cell_type": "code",
      "execution_count": null,
      "id": "e942e5ce-b876-4a10-aaad-7a108d66a44e",
      "metadata": {
        "id": "e942e5ce-b876-4a10-aaad-7a108d66a44e",
        "outputId": "28e3be55-ca89-4350-cf06-db8e231f6359"
      },
      "outputs": [
        {
          "name": "stdout",
          "output_type": "stream",
          "text": [
            "Accuracy: 0.8042\n",
            "              precision    recall  f1-score   support\n",
            "\n",
            "           0       0.00      0.00      0.00     15509\n",
            "           1       0.80      1.00      0.89     63697\n",
            "\n",
            "    accuracy                           0.80     79206\n",
            "   macro avg       0.40      0.50      0.45     79206\n",
            "weighted avg       0.65      0.80      0.72     79206\n",
            "\n"
          ]
        },
        {
          "name": "stderr",
          "output_type": "stream",
          "text": [
            "C:\\Users\\hp\\anaconda3\\Lib\\site-packages\\sklearn\\metrics\\_classification.py:1509: UndefinedMetricWarning: Precision is ill-defined and being set to 0.0 in labels with no predicted samples. Use `zero_division` parameter to control this behavior.\n",
            "  _warn_prf(average, modifier, f\"{metric.capitalize()} is\", len(result))\n",
            "C:\\Users\\hp\\anaconda3\\Lib\\site-packages\\sklearn\\metrics\\_classification.py:1509: UndefinedMetricWarning: Precision is ill-defined and being set to 0.0 in labels with no predicted samples. Use `zero_division` parameter to control this behavior.\n",
            "  _warn_prf(average, modifier, f\"{metric.capitalize()} is\", len(result))\n",
            "C:\\Users\\hp\\anaconda3\\Lib\\site-packages\\sklearn\\metrics\\_classification.py:1509: UndefinedMetricWarning: Precision is ill-defined and being set to 0.0 in labels with no predicted samples. Use `zero_division` parameter to control this behavior.\n",
            "  _warn_prf(average, modifier, f\"{metric.capitalize()} is\", len(result))\n"
          ]
        }
      ],
      "source": [
        "# Training the KNN classifier with k=5 (you can tune this)\n",
        "knn = KNeighborsClassifier(n_neighbors=21)\n",
        "knn.fit(X_train_scaled, Y_train)\n",
        "\n",
        "# Predictions\n",
        "Y_pred = knn.predict(X_test_scaled)\n",
        "\n",
        "# Evaluating the model\n",
        "accuracy = accuracy_score(Y_test, Y_pred)\n",
        "print(f\"Accuracy: {accuracy:.4f}\")\n",
        "print(classification_report(Y_test, Y_pred))"
      ]
    },
    {
      "cell_type": "code",
      "execution_count": null,
      "id": "5edeab61-4527-4c0a-be7a-20d89eda3f0d",
      "metadata": {
        "id": "5edeab61-4527-4c0a-be7a-20d89eda3f0d",
        "outputId": "7ac9cf55-f73d-4686-a766-557930ae6075"
      },
      "outputs": [
        {
          "data": {
            "image/png": "[encoded data removed]",
            "text/plain": [
              "<Figure size 640x480 with 2 Axes>"
            ]
          },
          "metadata": {},
          "output_type": "display_data"
        },
        {
          "data": {
            "image/png": "[encoded data removed]",
            "text/plain": [
              "<Figure size 800x500 with 1 Axes>"
            ]
          },
          "metadata": {},
          "output_type": "display_data"
        }
      ],
      "source": [
        "import matplotlib.pyplot as plt\n",
        "from sklearn.metrics import ConfusionMatrixDisplay, confusion_matrix\n",
        "\n",
        "# Confusion Matrix plot\n",
        "conf_matrix = confusion_matrix(Y_test, Y_pred)\n",
        "ConfusionMatrixDisplay(confusion_matrix=conf_matrix).plot()\n",
        "plt.title(\"Confusion Matrix for KNN (k=21)\")\n",
        "plt.show()\n",
        "\n",
        "# Accuracy plot for varying k values\n",
        "k_values = list(range(1, 26, 2))\n",
        "accuracy_scores = []\n",
        "\n",
        "for k in k_values:\n",
        "    knn = KNeighborsClassifier(n_neighbors=k)\n",
        "    knn.fit(X_train_scaled, Y_train)\n",
        "    Y_pred_k = knn.predict(X_test_scaled)\n",
        "    accuracy_scores.append(accuracy_score(Y_test, Y_pred_k))\n",
        "\n",
        "plt.figure(figsize=(8, 5))\n",
        "plt.plot(k_values, accuracy_scores, marker='o', color='blue')\n",
        "plt.title(\"K Values vs Accuracy\")\n",
        "plt.xlabel(\"K (Number of Neighbors)\")\n",
        "plt.ylabel(\"Accuracy\")\n",
        "plt.xticks(k_values)\n",
        "plt.grid(True)\n",
        "plt.show()\n"
      ]
    },
    {
      "cell_type": "markdown",
      "source": [
        "Recall for defaulters (Class 1) is 100%, meaning every actual defaulter is correctly identified.\n",
        "Precision for Class 1 is 80%, meaning some false positives exist.\n",
        "\n",
        "This is because, dataset has many more defaulters (63,697) than non-defaulters (15,509) and kNN being a distance based metric naturally assigns to the majority class based on distance."
      ],
      "metadata": {
        "id": "Ed_TGtsm0DHt"
      },
      "id": "Ed_TGtsm0DHt"
    },
    {
      "cell_type": "markdown",
      "source": [
        "# ***XGBoost***"
      ],
      "metadata": {
        "id": "matH4D2mz3EF"
      },
      "id": "matH4D2mz3EF"
    },
    {
      "cell_type": "code",
      "execution_count": null,
      "id": "f6190471-50c3-4be0-a0e7-a8e4d65c2ef0",
      "metadata": {
        "id": "f6190471-50c3-4be0-a0e7-a8e4d65c2ef0",
        "outputId": "60e61d8a-f184-4842-8bfc-7e3ae8a54f27"
      },
      "outputs": [
        {
          "name": "stdout",
          "output_type": "stream",
          "text": [
            "Collecting xgboost\n",
            "  Downloading xgboost-2.1.4-py3-none-win_amd64.whl.metadata (2.1 kB)\n",
            "Requirement already satisfied: numpy in c:\\users\\hp\\anaconda3\\lib\\site-packages (from xgboost) (1.26.4)\n",
            "Requirement already satisfied: scipy in c:\\users\\hp\\anaconda3\\lib\\site-packages (from xgboost) (1.13.1)\n",
            "Downloading xgboost-2.1.4-py3-none-win_amd64.whl (124.9 MB)\n",
            "   ---------------------------------------- 0.0/124.9 MB ? eta -:--:--\n",
            "   ---------------------------------------- 0.0/124.9 MB ? eta -:--:--\n",
            "   ---------------------------------------- 0.2/124.9 MB 2.9 MB/s eta 0:00:44\n",
            "   ---------------------------------------- 0.7/124.9 MB 6.4 MB/s eta 0:00:20\n",
            "   ---------------------------------------- 1.3/124.9 MB 7.7 MB/s eta 0:00:16\n",
            "    --------------------------------------- 1.9/124.9 MB 8.8 MB/s eta 0:00:14\n",
            "    --------------------------------------- 2.7/124.9 MB 9.9 MB/s eta 0:00:13\n",
            "   - -------------------------------------- 3.2/124.9 MB 10.2 MB/s eta 0:00:12\n",
            "   - -------------------------------------- 3.9/124.9 MB 10.7 MB/s eta 0:00:12\n",
            "   - -------------------------------------- 4.4/124.9 MB 10.8 MB/s eta 0:00:12\n",
            "   - -------------------------------------- 5.0/124.9 MB 11.1 MB/s eta 0:00:11\n",
            "   - -------------------------------------- 5.6/124.9 MB 11.2 MB/s eta 0:00:11\n",
            "   - -------------------------------------- 6.2/124.9 MB 11.3 MB/s eta 0:00:11\n",
            "   -- ------------------------------------- 6.8/124.9 MB 11.4 MB/s eta 0:00:11\n",
            "   -- ------------------------------------- 7.3/124.9 MB 11.4 MB/s eta 0:00:11\n",
            "   -- ------------------------------------- 7.9/124.9 MB 11.4 MB/s eta 0:00:11\n",
            "   -- ------------------------------------- 8.4/124.9 MB 11.5 MB/s eta 0:00:11\n",
            "   -- ------------------------------------- 9.0/124.9 MB 11.6 MB/s eta 0:00:11\n",
            "   --- ------------------------------------ 9.6/124.9 MB 11.6 MB/s eta 0:00:10\n",
            "   --- ------------------------------------ 10.2/124.9 MB 11.7 MB/s eta 0:00:10\n",
            "   --- ------------------------------------ 10.6/124.9 MB 12.4 MB/s eta 0:00:10\n",
            "   --- ------------------------------------ 11.3/124.9 MB 12.4 MB/s eta 0:00:10\n",
            "   --- ------------------------------------ 11.9/124.9 MB 12.3 MB/s eta 0:00:10\n",
            "   ---- ----------------------------------- 12.5/124.9 MB 12.1 MB/s eta 0:00:10\n",
            "   ---- ----------------------------------- 13.1/124.9 MB 12.1 MB/s eta 0:00:10\n",
            "   ---- ----------------------------------- 13.7/124.9 MB 12.4 MB/s eta 0:00:09\n",
            "   ---- ----------------------------------- 14.3/124.9 MB 12.1 MB/s eta 0:00:10\n",
            "   ---- ----------------------------------- 14.9/124.9 MB 12.1 MB/s eta 0:00:10\n",
            "   ---- ----------------------------------- 15.5/124.9 MB 12.4 MB/s eta 0:00:09\n",
            "   ----- ---------------------------------- 16.1/124.9 MB 12.1 MB/s eta 0:00:09\n",
            "   ----- ---------------------------------- 16.7/124.9 MB 12.1 MB/s eta 0:00:09\n",
            "   ----- ---------------------------------- 17.2/124.9 MB 12.4 MB/s eta 0:00:09\n",
            "   ----- ---------------------------------- 17.8/124.9 MB 12.4 MB/s eta 0:00:09\n",
            "   ----- ---------------------------------- 18.4/124.9 MB 12.4 MB/s eta 0:00:09\n",
            "   ------ --------------------------------- 19.0/124.9 MB 12.4 MB/s eta 0:00:09\n",
            "   ------ --------------------------------- 19.6/124.9 MB 12.1 MB/s eta 0:00:09\n",
            "   ------ --------------------------------- 20.1/124.9 MB 12.4 MB/s eta 0:00:09\n",
            "   ------ --------------------------------- 20.6/124.9 MB 12.1 MB/s eta 0:00:09\n",
            "   ------ --------------------------------- 21.3/124.9 MB 12.4 MB/s eta 0:00:09\n",
            "   ------- -------------------------------- 21.9/124.9 MB 12.4 MB/s eta 0:00:09\n",
            "   ------- -------------------------------- 22.3/124.9 MB 12.1 MB/s eta 0:00:09\n",
            "   ------- -------------------------------- 23.0/124.9 MB 12.1 MB/s eta 0:00:09\n",
            "   ------- -------------------------------- 23.6/124.9 MB 12.4 MB/s eta 0:00:09\n",
            "   ------- -------------------------------- 24.2/124.9 MB 12.3 MB/s eta 0:00:09\n",
            "   ------- -------------------------------- 24.8/124.9 MB 12.1 MB/s eta 0:00:09\n",
            "   -------- ------------------------------- 25.3/124.9 MB 12.4 MB/s eta 0:00:09\n",
            "   -------- ------------------------------- 25.9/124.9 MB 12.1 MB/s eta 0:00:09\n",
            "   -------- ------------------------------- 26.5/124.9 MB 12.1 MB/s eta 0:00:09\n",
            "   -------- ------------------------------- 27.1/124.9 MB 12.1 MB/s eta 0:00:09\n",
            "   -------- ------------------------------- 27.7/124.9 MB 12.1 MB/s eta 0:00:09\n",
            "   --------- ------------------------------ 28.2/124.9 MB 12.1 MB/s eta 0:00:08\n",
            "   --------- ------------------------------ 28.8/124.9 MB 12.1 MB/s eta 0:00:08\n",
            "   --------- ------------------------------ 29.4/124.9 MB 12.1 MB/s eta 0:00:08\n",
            "   --------- ------------------------------ 30.0/124.9 MB 12.1 MB/s eta 0:00:08\n",
            "   --------- ------------------------------ 30.6/124.9 MB 12.1 MB/s eta 0:00:08\n",
            "   --------- ------------------------------ 31.1/124.9 MB 12.4 MB/s eta 0:00:08\n",
            "   ---------- ----------------------------- 31.7/124.9 MB 12.3 MB/s eta 0:00:08\n",
            "   ---------- ----------------------------- 32.3/124.9 MB 12.4 MB/s eta 0:00:08\n",
            "   ---------- ----------------------------- 32.8/124.9 MB 12.4 MB/s eta 0:00:08\n",
            "   ---------- ----------------------------- 33.4/124.9 MB 12.1 MB/s eta 0:00:08\n",
            "   ---------- ----------------------------- 34.0/124.9 MB 12.4 MB/s eta 0:00:08\n",
            "   ----------- ---------------------------- 34.6/124.9 MB 12.4 MB/s eta 0:00:08\n",
            "   ----------- ---------------------------- 35.2/124.9 MB 12.1 MB/s eta 0:00:08\n",
            "   ----------- ---------------------------- 35.7/124.9 MB 12.4 MB/s eta 0:00:08\n",
            "   ----------- ---------------------------- 36.3/124.9 MB 12.3 MB/s eta 0:00:08\n",
            "   ----------- ---------------------------- 36.9/124.9 MB 12.1 MB/s eta 0:00:08\n",
            "   ------------ --------------------------- 37.5/124.9 MB 12.4 MB/s eta 0:00:08\n",
            "   ------------ --------------------------- 38.1/124.9 MB 12.1 MB/s eta 0:00:08\n",
            "   ------------ --------------------------- 38.7/124.9 MB 12.4 MB/s eta 0:00:07\n",
            "   ------------ --------------------------- 39.2/124.9 MB 12.4 MB/s eta 0:00:07\n",
            "   ------------ --------------------------- 39.8/124.9 MB 12.1 MB/s eta 0:00:08\n",
            "   ------------ --------------------------- 40.4/124.9 MB 12.1 MB/s eta 0:00:07\n",
            "   ------------- -------------------------- 41.0/124.9 MB 12.3 MB/s eta 0:00:07\n",
            "   ------------- -------------------------- 41.5/124.9 MB 12.1 MB/s eta 0:00:07\n",
            "   ------------- -------------------------- 42.1/124.9 MB 12.1 MB/s eta 0:00:07\n",
            "   ------------- -------------------------- 42.7/124.9 MB 12.1 MB/s eta 0:00:07\n",
            "   ------------- -------------------------- 43.3/124.9 MB 12.1 MB/s eta 0:00:07\n",
            "   -------------- ------------------------- 43.9/124.9 MB 12.1 MB/s eta 0:00:07\n",
            "   -------------- ------------------------- 44.4/124.9 MB 12.1 MB/s eta 0:00:07\n",
            "   -------------- ------------------------- 45.1/124.9 MB 12.1 MB/s eta 0:00:07\n",
            "   -------------- ------------------------- 45.7/124.9 MB 12.4 MB/s eta 0:00:07\n",
            "   -------------- ------------------------- 46.2/124.9 MB 12.4 MB/s eta 0:00:07\n",
            "   -------------- ------------------------- 46.8/124.9 MB 12.1 MB/s eta 0:00:07\n",
            "   --------------- ------------------------ 47.4/124.9 MB 12.1 MB/s eta 0:00:07\n",
            "   --------------- ------------------------ 48.0/124.9 MB 12.4 MB/s eta 0:00:07\n",
            "   --------------- ------------------------ 48.6/124.9 MB 12.1 MB/s eta 0:00:07\n",
            "   --------------- ------------------------ 49.2/124.9 MB 12.1 MB/s eta 0:00:07\n",
            "   --------------- ------------------------ 49.7/124.9 MB 12.4 MB/s eta 0:00:07\n",
            "   ---------------- ----------------------- 50.3/124.9 MB 12.1 MB/s eta 0:00:07\n",
            "   ---------------- ----------------------- 50.9/124.9 MB 12.1 MB/s eta 0:00:07\n",
            "   ---------------- ----------------------- 51.5/124.9 MB 12.1 MB/s eta 0:00:07\n",
            "   ---------------- ----------------------- 52.1/124.9 MB 12.4 MB/s eta 0:00:06\n",
            "   ---------------- ----------------------- 52.7/124.9 MB 12.1 MB/s eta 0:00:06\n",
            "   ----------------- ---------------------- 53.2/124.9 MB 12.1 MB/s eta 0:00:06\n",
            "   ----------------- ---------------------- 53.9/124.9 MB 12.4 MB/s eta 0:00:06\n",
            "   ----------------- ---------------------- 54.4/124.9 MB 12.1 MB/s eta 0:00:06\n",
            "   ----------------- ---------------------- 55.0/124.9 MB 12.4 MB/s eta 0:00:06\n",
            "   ----------------- ---------------------- 55.6/124.9 MB 12.4 MB/s eta 0:00:06\n",
            "   ----------------- ---------------------- 56.2/124.9 MB 12.3 MB/s eta 0:00:06\n",
            "   ------------------ --------------------- 56.6/124.9 MB 12.1 MB/s eta 0:00:06\n",
            "   ------------------ --------------------- 57.2/124.9 MB 12.1 MB/s eta 0:00:06\n",
            "   ------------------ --------------------- 57.8/124.9 MB 12.1 MB/s eta 0:00:06\n",
            "   ------------------ --------------------- 58.4/124.9 MB 12.4 MB/s eta 0:00:06\n",
            "   ------------------ --------------------- 59.0/124.9 MB 12.4 MB/s eta 0:00:06\n",
            "   ------------------- -------------------- 59.6/124.9 MB 12.4 MB/s eta 0:00:06\n",
            "   ------------------- -------------------- 60.2/124.9 MB 12.4 MB/s eta 0:00:06\n",
            "   ------------------- -------------------- 60.7/124.9 MB 12.3 MB/s eta 0:00:06\n",
            "   ------------------- -------------------- 61.4/124.9 MB 12.4 MB/s eta 0:00:06\n",
            "   ------------------- -------------------- 61.9/124.9 MB 12.4 MB/s eta 0:00:06\n",
            "   -------------------- ------------------- 62.6/124.9 MB 12.4 MB/s eta 0:00:06\n",
            "   -------------------- ------------------- 63.2/124.9 MB 12.4 MB/s eta 0:00:05\n",
            "   -------------------- ------------------- 63.8/124.9 MB 12.4 MB/s eta 0:00:05\n",
            "   -------------------- ------------------- 64.3/124.9 MB 12.4 MB/s eta 0:00:05\n",
            "   -------------------- ------------------- 64.9/124.9 MB 12.6 MB/s eta 0:00:05\n",
            "   -------------------- ------------------- 65.5/124.9 MB 12.4 MB/s eta 0:00:05\n",
            "   --------------------- ------------------ 66.1/124.9 MB 12.4 MB/s eta 0:00:05\n",
            "   --------------------- ------------------ 66.7/124.9 MB 12.4 MB/s eta 0:00:05\n",
            "   --------------------- ------------------ 67.3/124.9 MB 12.4 MB/s eta 0:00:05\n",
            "   --------------------- ------------------ 67.9/124.9 MB 12.6 MB/s eta 0:00:05\n",
            "   --------------------- ------------------ 68.4/124.9 MB 12.3 MB/s eta 0:00:05\n",
            "   ---------------------- ----------------- 69.1/124.9 MB 12.4 MB/s eta 0:00:05\n",
            "   ---------------------- ----------------- 69.6/124.9 MB 12.4 MB/s eta 0:00:05\n",
            "   ---------------------- ----------------- 70.3/124.9 MB 12.4 MB/s eta 0:00:05\n",
            "   ---------------------- ----------------- 70.9/124.9 MB 12.6 MB/s eta 0:00:05\n",
            "   ---------------------- ----------------- 71.5/124.9 MB 12.3 MB/s eta 0:00:05\n",
            "   ----------------------- ---------------- 71.9/124.9 MB 12.4 MB/s eta 0:00:05\n",
            "   ----------------------- ---------------- 72.5/124.9 MB 12.1 MB/s eta 0:00:05\n",
            "   ----------------------- ---------------- 73.1/124.9 MB 12.1 MB/s eta 0:00:05\n",
            "   ----------------------- ---------------- 73.6/124.9 MB 12.4 MB/s eta 0:00:05\n",
            "   ----------------------- ---------------- 74.2/124.9 MB 12.1 MB/s eta 0:00:05\n",
            "   ----------------------- ---------------- 74.8/124.9 MB 12.1 MB/s eta 0:00:05\n",
            "   ------------------------ --------------- 75.4/124.9 MB 12.4 MB/s eta 0:00:05\n",
            "   ------------------------ --------------- 76.0/124.9 MB 12.1 MB/s eta 0:00:05\n",
            "   ------------------------ --------------- 76.6/124.9 MB 12.1 MB/s eta 0:00:04\n",
            "   ------------------------ --------------- 77.1/124.9 MB 12.1 MB/s eta 0:00:04\n",
            "   ------------------------ --------------- 77.8/124.9 MB 12.1 MB/s eta 0:00:04\n",
            "   ------------------------- -------------- 78.3/124.9 MB 12.1 MB/s eta 0:00:04\n",
            "   ------------------------- -------------- 78.9/124.9 MB 12.1 MB/s eta 0:00:04\n",
            "   ------------------------- -------------- 79.5/124.9 MB 12.1 MB/s eta 0:00:04\n",
            "   ------------------------- -------------- 80.1/124.9 MB 12.1 MB/s eta 0:00:04\n",
            "   ------------------------- -------------- 80.7/124.9 MB 12.1 MB/s eta 0:00:04\n",
            "   -------------------------- ------------- 81.2/124.9 MB 12.1 MB/s eta 0:00:04\n",
            "   -------------------------- ------------- 81.8/124.9 MB 12.1 MB/s eta 0:00:04\n",
            "   -------------------------- ------------- 82.4/124.9 MB 12.4 MB/s eta 0:00:04\n",
            "   -------------------------- ------------- 82.9/124.9 MB 12.4 MB/s eta 0:00:04\n",
            "   -------------------------- ------------- 83.5/124.9 MB 12.4 MB/s eta 0:00:04\n",
            "   -------------------------- ------------- 84.1/124.9 MB 12.4 MB/s eta 0:00:04\n",
            "   --------------------------- ------------ 84.7/124.9 MB 12.1 MB/s eta 0:00:04\n",
            "   --------------------------- ------------ 85.3/124.9 MB 12.3 MB/s eta 0:00:04\n",
            "   --------------------------- ------------ 85.8/124.9 MB 12.4 MB/s eta 0:00:04\n",
            "   --------------------------- ------------ 86.4/124.9 MB 12.4 MB/s eta 0:00:04\n",
            "   --------------------------- ------------ 87.0/124.9 MB 12.1 MB/s eta 0:00:04\n",
            "   ---------------------------- ----------- 87.6/124.9 MB 12.1 MB/s eta 0:00:04\n",
            "   ---------------------------- ----------- 88.2/124.9 MB 12.1 MB/s eta 0:00:04\n",
            "   ---------------------------- ----------- 88.8/124.9 MB 12.4 MB/s eta 0:00:03\n",
            "   ---------------------------- ----------- 89.4/124.9 MB 12.4 MB/s eta 0:00:03\n",
            "   ---------------------------- ----------- 90.0/124.9 MB 12.4 MB/s eta 0:00:03\n",
            "   ----------------------------- ---------- 90.6/124.9 MB 12.4 MB/s eta 0:00:03\n",
            "   ----------------------------- ---------- 91.2/124.9 MB 12.4 MB/s eta 0:00:03\n",
            "   ----------------------------- ---------- 91.8/124.9 MB 12.4 MB/s eta 0:00:03\n",
            "   ----------------------------- ---------- 92.4/124.9 MB 12.4 MB/s eta 0:00:03\n",
            "   ----------------------------- ---------- 92.9/124.9 MB 12.3 MB/s eta 0:00:03\n",
            "   ----------------------------- ---------- 93.5/124.9 MB 12.4 MB/s eta 0:00:03\n",
            "   ------------------------------ --------- 94.1/124.9 MB 12.4 MB/s eta 0:00:03\n",
            "   ------------------------------ --------- 94.6/124.9 MB 12.4 MB/s eta 0:00:03\n",
            "   ------------------------------ --------- 95.3/124.9 MB 12.4 MB/s eta 0:00:03\n",
            "   ------------------------------ --------- 95.9/124.9 MB 12.4 MB/s eta 0:00:03\n",
            "   ------------------------------ --------- 96.5/124.9 MB 12.6 MB/s eta 0:00:03\n",
            "   ------------------------------- -------- 97.1/124.9 MB 12.1 MB/s eta 0:00:03\n",
            "   ------------------------------- -------- 97.7/124.9 MB 12.4 MB/s eta 0:00:03\n",
            "   ------------------------------- -------- 98.3/124.9 MB 12.4 MB/s eta 0:00:03\n",
            "   ------------------------------- -------- 98.9/124.9 MB 12.4 MB/s eta 0:00:03\n",
            "   ------------------------------- -------- 99.5/124.9 MB 12.4 MB/s eta 0:00:03\n",
            "   ------------------------------- ------- 100.1/124.9 MB 12.4 MB/s eta 0:00:03\n",
            "   ------------------------------- ------- 100.6/124.9 MB 12.3 MB/s eta 0:00:02\n",
            "   ------------------------------- ------- 101.2/124.9 MB 12.4 MB/s eta 0:00:02\n",
            "   ------------------------------- ------- 101.8/124.9 MB 12.4 MB/s eta 0:00:02\n",
            "   ------------------------------- ------- 102.4/124.9 MB 12.4 MB/s eta 0:00:02\n",
            "   -------------------------------- ------ 103.0/124.9 MB 12.4 MB/s eta 0:00:02\n",
            "   -------------------------------- ------ 103.6/124.9 MB 12.4 MB/s eta 0:00:02\n",
            "   -------------------------------- ------ 104.2/124.9 MB 12.6 MB/s eta 0:00:02\n",
            "   -------------------------------- ------ 104.8/124.9 MB 12.4 MB/s eta 0:00:02\n",
            "   -------------------------------- ------ 105.3/124.9 MB 12.3 MB/s eta 0:00:02\n",
            "   --------------------------------- ----- 105.9/124.9 MB 12.4 MB/s eta 0:00:02\n",
            "   --------------------------------- ----- 106.4/124.9 MB 12.4 MB/s eta 0:00:02\n",
            "   --------------------------------- ----- 107.0/124.9 MB 12.4 MB/s eta 0:00:02\n",
            "   --------------------------------- ----- 107.5/124.9 MB 12.4 MB/s eta 0:00:02\n",
            "   --------------------------------- ----- 108.1/124.9 MB 12.4 MB/s eta 0:00:02\n",
            "   --------------------------------- ----- 108.7/124.9 MB 12.4 MB/s eta 0:00:02\n",
            "   ---------------------------------- ---- 109.3/124.9 MB 12.4 MB/s eta 0:00:02\n",
            "   ---------------------------------- ---- 109.9/124.9 MB 12.1 MB/s eta 0:00:02\n",
            "   ---------------------------------- ---- 110.5/124.9 MB 12.4 MB/s eta 0:00:02\n",
            "   ---------------------------------- ---- 111.0/124.9 MB 12.4 MB/s eta 0:00:02\n",
            "   ---------------------------------- ---- 111.7/124.9 MB 12.1 MB/s eta 0:00:02\n",
            "   ----------------------------------- --- 112.2/124.9 MB 12.4 MB/s eta 0:00:02\n",
            "   ----------------------------------- --- 112.8/124.9 MB 12.1 MB/s eta 0:00:01\n",
            "   ----------------------------------- --- 113.4/124.9 MB 12.1 MB/s eta 0:00:01\n",
            "   ----------------------------------- --- 114.0/124.9 MB 12.1 MB/s eta 0:00:01\n",
            "   ----------------------------------- --- 114.6/124.9 MB 12.3 MB/s eta 0:00:01\n",
            "   ----------------------------------- --- 115.2/124.9 MB 12.4 MB/s eta 0:00:01\n",
            "   ------------------------------------ -- 115.8/124.9 MB 12.1 MB/s eta 0:00:01\n",
            "   ------------------------------------ -- 116.4/124.9 MB 12.1 MB/s eta 0:00:01\n",
            "   ------------------------------------ -- 117.0/124.9 MB 12.4 MB/s eta 0:00:01\n",
            "   ------------------------------------ -- 117.5/124.9 MB 12.3 MB/s eta 0:00:01\n",
            "   ------------------------------------ -- 118.1/124.9 MB 12.4 MB/s eta 0:00:01\n",
            "   ------------------------------------- - 118.6/124.9 MB 12.4 MB/s eta 0:00:01\n",
            "   ------------------------------------- - 119.3/124.9 MB 12.4 MB/s eta 0:00:01\n",
            "   ------------------------------------- - 119.8/124.9 MB 12.4 MB/s eta 0:00:01\n",
            "   ------------------------------------- - 120.4/124.9 MB 12.6 MB/s eta 0:00:01\n",
            "   ------------------------------------- - 121.0/124.9 MB 12.4 MB/s eta 0:00:01\n",
            "   ------------------------------------- - 121.5/124.9 MB 12.6 MB/s eta 0:00:01\n",
            "   --------------------------------------  122.2/124.9 MB 12.6 MB/s eta 0:00:01\n",
            "   --------------------------------------  122.8/124.9 MB 12.4 MB/s eta 0:00:01\n",
            "   --------------------------------------  123.3/124.9 MB 12.4 MB/s eta 0:00:01\n",
            "   --------------------------------------  123.7/124.9 MB 12.3 MB/s eta 0:00:01\n",
            "   --------------------------------------  124.5/124.9 MB 12.4 MB/s eta 0:00:01\n",
            "   --------------------------------------  124.9/124.9 MB 12.4 MB/s eta 0:00:01\n",
            "   --------------------------------------  124.9/124.9 MB 12.1 MB/s eta 0:00:01\n",
            "   --------------------------------------  124.9/124.9 MB 12.1 MB/s eta 0:00:01\n",
            "   --------------------------------------  124.9/124.9 MB 12.1 MB/s eta 0:00:01\n",
            "   --------------------------------------  124.9/124.9 MB 12.1 MB/s eta 0:00:01\n",
            "   --------------------------------------  124.9/124.9 MB 12.1 MB/s eta 0:00:01\n",
            "   --------------------------------------  124.9/124.9 MB 12.1 MB/s eta 0:00:01\n",
            "   --------------------------------------  124.9/124.9 MB 12.1 MB/s eta 0:00:01\n",
            "   ---------------------------------------- 124.9/124.9 MB 8.6 MB/s eta 0:00:00\n",
            "Installing collected packages: xgboost\n",
            "Successfully installed xgboost-2.1.4\n"
          ]
        },
        {
          "name": "stderr",
          "output_type": "stream",
          "text": [
            "C:\\Users\\hp\\anaconda3\\Lib\\site-packages\\xgboost\\core.py:158: UserWarning: [00:21:29] WARNING: C:\\buildkite-agent\\builds\\buildkite-windows-cpu-autoscaling-group-i-08cbc0333d8d4aae1-1\\xgboost\\xgboost-ci-windows\\src\\learner.cc:740: \n",
            "Parameters: { \"use_label_encoder\" } are not used.\n",
            "\n",
            "  warnings.warn(smsg, UserWarning)\n"
          ]
        },
        {
          "name": "stdout",
          "output_type": "stream",
          "text": [
            "Accuracy: 0.8042\n",
            "              precision    recall  f1-score   support\n",
            "\n",
            "           0       0.00      0.00      0.00     15509\n",
            "           1       0.80      1.00      0.89     63697\n",
            "\n",
            "    accuracy                           0.80     79206\n",
            "   macro avg       0.40      0.50      0.45     79206\n",
            "weighted avg       0.65      0.80      0.72     79206\n",
            "\n"
          ]
        },
        {
          "data": {
            "image/png": "[encoded data removed]",
            "text/plain": [
              "<Figure size 480x480 with 2 Axes>"
            ]
          },
          "metadata": {},
          "output_type": "display_data"
        }
      ],
      "source": [
        "!pip install xgboost\n",
        "\n",
        "import xgboost as xgb\n",
        "from sklearn.metrics import accuracy_score, classification_report, confusion_matrix\n",
        "import matplotlib.pyplot as plt\n",
        "\n",
        "# Initialize the XGBoost Classifier\n",
        "xgb_clf = xgb.XGBClassifier(objective='binary:logistic', eval_metric='logloss', use_label_encoder=False)\n",
        "\n",
        "# Train the model\n",
        "xgb_clf.fit(X_train_scaled, Y_train)\n",
        "\n",
        "# Predictions\n",
        "Y_pred = xgb_clf.predict(X_test_scaled)\n",
        "\n",
        "# Evaluate the model\n",
        "accuracy = accuracy_score(Y_test, Y_pred)\n",
        "print(f\"Accuracy: {accuracy:.4f}\")\n",
        "print(classification_report(Y_test, Y_pred))\n",
        "\n",
        "# Plotting Confusion Matrix\n",
        "conf_matrix = confusion_matrix(Y_test, Y_pred)\n",
        "plt.matshow(conf_matrix, cmap=plt.cm.Blues)\n",
        "plt.title(\"Confusion Matrix for XGBoost\")\n",
        "plt.colorbar()\n",
        "plt.xlabel(\"Predicted\")\n",
        "plt.ylabel(\"Actual\")\n",
        "plt.show()\n"
      ]
    },
    {
      "cell_type": "markdown",
      "source": [
        "XGBoost model was trained on the dataset for a binary classification problem (loan repayment vs. default). While it achieved an accuracy of 80.42%, a deeper analysis of the precision, recall, and F1-score reveals that the model struggles with class imbalance and does not perform well in predicting non-defaulters (Class 0). That is, model correctly identifies all defaulters (Class 1) with 100% recall, yet it fails to classify non-defaulters. happens due to class imbalance, where the dataset has significantly more defaulters than non-defaulters, causing the model to favor the majority class (default) and ignore the minority class (non-default)."
      ],
      "metadata": {
        "id": "QBzpqNkAzHY3"
      },
      "id": "QBzpqNkAzHY3"
    },
    {
      "cell_type": "markdown",
      "source": [
        "# ***Conclusion***\n",
        "\n",
        "The goal of this project was to develop a machine learning model that accurately predicts whether a borrower will repay a loan or default, thereby helping financial institutions make data-driven lending decisions.\n",
        "\n",
        "Random Forest Classifier performed the best, with he highest F1-score (0.8881), indicating strong classification performance, and Showed better generalization in predicting both defaulters and non-defaulters. Whereas, (KNN) was the worst model having predicted nearly all loans as defaults, making it useless for lending decisions and completely failed to identify low-risk borrowers, contradicting the project’s aim.\n",
        "\n",
        "\n",
        "It must be noted that there were some challenges faced in our assignment;\n",
        "\n",
        "### *Challenges*\n",
        "\n",
        "Most models struggled to predict repaid loans (Class 0) due to an overwhelming majority of defaulters in the dataset. (However SMOTE (Synthetic Minority Over-sampling Technique)could be used to balance the dataset.)\n",
        "\n",
        "kNN and XGBoost models favored defaulters, leading to a high rate of false positives (wrongly predicting non-defaulters as defaulters).\n",
        "\n",
        "### ***Recommendation***\n",
        "\n",
        "The best model for this task is Random Forest. Moreover, the analysis showed loan amount and credit score were key predictors, supporting the idea that larger loans had a higher risk of default. Deploying the final model in financial institutions can help reduce lending risks and improve loan approval accuracy beyond traditional methods.\n",
        "\n",
        "We also once more recommend implementing tiered interest rates based on risk scores.\n",
        "\n",
        "\n",
        "\n",
        "\n",
        "\n",
        "\n"
      ],
      "metadata": {
        "id": "kYPyIc_OxbWd"
      },
      "id": "kYPyIc_OxbWd"
    },
    {
      "cell_type": "code",
      "execution_count": null,
      "id": "0ebc6a5d-5769-462c-be92-2c2beb7708c7",
      "metadata": {
        "id": "0ebc6a5d-5769-462c-be92-2c2beb7708c7"
      },
      "outputs": [],
      "source": []
    }
  ],
  "metadata": {
    "kernelspec": {
      "display_name": "Python 3 (ipykernel)",
      "language": "python",
      "name": "python3"
    },
    "language_info": {
      "codemirror_mode": {
        "name": "ipython",
        "version": 3
      },
      "file_extension": ".py",
      "mimetype": "text/x-python",
      "name": "python",
      "nbconvert_exporter": "python",
      "pygments_lexer": "ipython3",
      "version": "3.12.4"
    },
    "colab": {
      "provenance": []
    }
  },
  "nbformat": 4,
  "nbformat_minor": 5
}